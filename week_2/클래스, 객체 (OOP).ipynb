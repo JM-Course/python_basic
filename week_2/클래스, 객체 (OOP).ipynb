{
 "cells": [
  {
   "cell_type": "markdown",
   "metadata": {},
   "source": [
    "변수: 정수(int), 실수(float), 문자열(string) => 이름, 나이\n",
    "\n",
    "리스트: 값들의 모음 (순서 있음)\n",
    "\n",
    "딕셔너리: key-value pair"
   ]
  },
  {
   "cell_type": "markdown",
   "metadata": {},
   "source": [
    "더 고차원적인 것은 어떻게 표현하나?\n",
    "\n",
    "예를 들어, \"사람\"은 어떻게 표현할까?\n",
    "\n",
    "=> 클래스, 세상의 모든 object를 표현하기 위한 개념"
   ]
  },
  {
   "cell_type": "code",
   "execution_count": 1,
   "metadata": {
    "collapsed": true
   },
   "outputs": [],
   "source": [
    "# 사람은 표현하기 위한 class\n",
    "class Person:\n",
    "    pass"
   ]
  },
  {
   "cell_type": "code",
   "execution_count": 15,
   "metadata": {
    "collapsed": true
   },
   "outputs": [],
   "source": [
    "# 이름, 나이, 키, 몸무게\n",
    "class Person:\n",
    "    def __init__(self):\n",
    "        self.name = \"Darius\"\n",
    "        self.age = 30\n",
    "    \n",
    "    def __repr__(self):\n",
    "        return f\"이름: {self.name}, 나이: {self.age}\""
   ]
  },
  {
   "cell_type": "code",
   "execution_count": 16,
   "metadata": {
    "collapsed": false
   },
   "outputs": [
    {
     "name": "stdout",
     "output_type": "stream",
     "text": [
      "이름: Darius, 나이: 30\n"
     ]
    }
   ],
   "source": [
    "# person: 객체\n",
    "person = Person()\n",
    "print(person)"
   ]
  },
  {
   "cell_type": "code",
   "execution_count": 17,
   "metadata": {
    "collapsed": true
   },
   "outputs": [],
   "source": [
    "# 이름, 나이, 키, 몸무게\n",
    "class Person:\n",
    "    def __init__(self, name, age):\n",
    "        self.name = name\n",
    "        self.age = age\n",
    "    \n",
    "    def __repr__(self):\n",
    "        return f\"이름: {self.name}, 나이: {self.age}\""
   ]
  },
  {
   "cell_type": "code",
   "execution_count": 18,
   "metadata": {
    "collapsed": false
   },
   "outputs": [
    {
     "name": "stdout",
     "output_type": "stream",
     "text": [
      "이름: Darius, 나이: 30\n",
      "이름: Sivir, 나이: 26\n"
     ]
    }
   ],
   "source": [
    "darius = Person(\"Darius\", 30)\n",
    "print(darius)\n",
    "\n",
    "sivir = Person(\"Sivir\", 26)\n",
    "print(sivir)"
   ]
  },
  {
   "cell_type": "code",
   "execution_count": 19,
   "metadata": {
    "collapsed": true
   },
   "outputs": [],
   "source": [
    "# 이름, 나이, 키, 몸무게\n",
    "class Person:\n",
    "    def __init__(self, name, age):\n",
    "        self.name = name\n",
    "        self.age = age\n",
    "    \n",
    "    def __repr__(self):\n",
    "        return f\"이름: {self.name}, 나이: {self.age}\"\n",
    "    \n",
    "    def greet(self):\n",
    "        print(f\"안녕하세요. 제 이름은 {self. name}입니다. 제 나이는 {self.age}살 입니다.\")"
   ]
  },
  {
   "cell_type": "code",
   "execution_count": 20,
   "metadata": {
    "collapsed": false
   },
   "outputs": [
    {
     "name": "stdout",
     "output_type": "stream",
     "text": [
      "안녕하세요. 제 이름은 Darius입니다. 제 나이는 30살 입니다.\n",
      "안녕하세요. 제 이름은 Sivir입니다. 제 나이는 26살 입니다.\n"
     ]
    }
   ],
   "source": [
    "darius = Person(\"Darius\", 30)\n",
    "darius.greet()\n",
    "\n",
    "sivir = Person(\"Sivir\", 26)\n",
    "sivir.greet()"
   ]
  },
  {
   "cell_type": "markdown",
   "metadata": {},
   "source": [
    "클래스: 객체를 만들어 내기 위한 설계도 혹은 틀, 껍데기\n",
    "\n",
    "\n",
    "객체: 설계도를 바탕으로 소프트웨어 세계에 구현된 구체적인 실체"
   ]
  },
  {
   "cell_type": "markdown",
   "metadata": {},
   "source": [
    "클래스에서,\n",
    "\n",
    "변수: 데이터, 값\n",
    "\n",
    "함수: 행동"
   ]
  },
  {
   "cell_type": "code",
   "execution_count": null,
   "metadata": {
    "collapsed": true
   },
   "outputs": [],
   "source": []
  }
 ],
 "metadata": {
  "kernelspec": {
   "display_name": "Python 3",
   "language": "python",
   "name": "python3"
  },
  "language_info": {
   "codemirror_mode": {
    "name": "ipython",
    "version": 3
   },
   "file_extension": ".py",
   "mimetype": "text/x-python",
   "name": "python",
   "nbconvert_exporter": "python",
   "pygments_lexer": "ipython3",
   "version": "3.6.0"
  }
 },
 "nbformat": 4,
 "nbformat_minor": 2
}
