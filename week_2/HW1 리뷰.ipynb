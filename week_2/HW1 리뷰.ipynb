{
 "cells": [
  {
   "cell_type": "markdown",
   "metadata": {},
   "source": [
    "# HW 1"
   ]
  },
  {
   "cell_type": "code",
   "execution_count": 5,
   "metadata": {},
   "outputs": [],
   "source": [
    "student2score = {\n",
    "    \"Darius\": 100,\n",
    "    \"Dr. Mundo\": 80,\n",
    "    \"Morgana\": 60,\n",
    "    \"Sivir\": 75,\n",
    "    \"Yummi\": 20,\n",
    "    \"Viktor\": 97\n",
    "}\n",
    "\n",
    "\n",
    "def get_special_students(student2score):\n",
    "    \"\"\"\n",
    "    특별반 학생의 리스트를 리턴하는 함수\n",
    "    특별반은 점수가 80점 이상이어야 들어갈 수 있다.\n",
    "\n",
    "    :param student2score:\n",
    "    :return special_students:\n",
    "    \"\"\"\n",
    "    special_students = []\n",
    "    return special_students"
   ]
  },
  {
   "cell_type": "code",
   "execution_count": 17,
   "metadata": {},
   "outputs": [
    {
     "name": "stdout",
     "output_type": "stream",
     "text": [
      "['Darius', 'Dr. Mundo', 'Viktor']\n"
     ]
    }
   ],
   "source": [
    "# dictionary => key-value pair, 초기화\n",
    "student2score = {\n",
    "    \"Darius\": 100,\n",
    "    \"Dr. Mundo\": 80,\n",
    "    \"Morgana\": 60,\n",
    "    \"Sivir\": 75,\n",
    "    \"Yummi\": 20,\n",
    "    \"Viktor\": 97\n",
    "}\n",
    "\n",
    "\n",
    "# funtion\n",
    "# function name: get_special_students\n",
    "# parameter: student2score (dict)\n",
    "# indentation으로 함수 block을 구분 (함수 뿐 아니라, if문, while 등 파이썬은 indentation으로 block을 구분, 따라서 indentation이 중요)\n",
    "def get_special_students(student2score):\n",
    "    \"\"\"\n",
    "    특별반 학생의 리스트를 리턴하는 함수\n",
    "    특별반은 점수가 80점 이상이어야 들어갈 수 있다.\n",
    "\n",
    "    :param student2score:\n",
    "    :return special_students:\n",
    "    \"\"\"\n",
    "    # special_students => return 할 리스트\n",
    "    special_students = []\n",
    "    # 반복문(for)를 통해서 각 학생을 불러옴\n",
    "    for student in student2score: # key가 student에 들어감\n",
    "#         print(student) # 학생 이름\n",
    "#         print(student2score[student]) # 학생 점수\n",
    "        if student2score[student] >= 80: # 점수가 80이상 일 때\n",
    "            special_students.append(student) # special_students 리스트에 학생 이름을 추가\n",
    "    return special_students\n",
    "\n",
    "\n",
    "print(get_special_students(student2score))\n"
   ]
  },
  {
   "cell_type": "code",
   "execution_count": 18,
   "metadata": {},
   "outputs": [
    {
     "name": "stdout",
     "output_type": "stream",
     "text": [
      "['Darius', 'Dr. Mundo', 'Viktor']\n"
     ]
    }
   ],
   "source": [
    "student2score = {\n",
    "    \"Darius\": 100,\n",
    "    \"Dr. Mundo\": 80,\n",
    "    \"Morgana\": 60,\n",
    "    \"Sivir\": 75,\n",
    "    \"Yummi\": 20,\n",
    "    \"Viktor\": 97\n",
    "}\n",
    "\n",
    "\n",
    "def get_special_students(student2score):\n",
    "    \"\"\"\n",
    "    특별반 학생의 리스트를 리턴하는 함수\n",
    "    특별반은 점수가 80점 이상이어야 들어갈 수 있다.\n",
    "\n",
    "    :param student2score:\n",
    "    :return special_students:\n",
    "    \"\"\"\n",
    "    special_students = []\n",
    "    for student in student2score:\n",
    "        if student2score[student] >= 80:\n",
    "            special_students.append(student)\n",
    "    return special_students\n",
    "\n",
    "\n",
    "print(get_special_students(student2score))"
   ]
  },
  {
   "cell_type": "markdown",
   "metadata": {},
   "source": [
    "# List"
   ]
  },
  {
   "cell_type": "markdown",
   "metadata": {},
   "source": [
    "## 리스트 초기화"
   ]
  },
  {
   "cell_type": "code",
   "execution_count": 24,
   "metadata": {},
   "outputs": [
    {
     "name": "stdout",
     "output_type": "stream",
     "text": [
      "['Darius', 'Dr. Mundo', 'Viktor']\n"
     ]
    }
   ],
   "source": [
    "special_students = ['Darius', 'Dr. Mundo', 'Viktor']\n",
    "print(special_students)"
   ]
  },
  {
   "cell_type": "markdown",
   "metadata": {},
   "source": [
    "## 리스트 조회"
   ]
  },
  {
   "cell_type": "code",
   "execution_count": 27,
   "metadata": {},
   "outputs": [
    {
     "name": "stdout",
     "output_type": "stream",
     "text": [
      "['Darius', 'Dr. Mundo', 'Viktor']\n",
      "Darius\n",
      "Dr. Mundo\n",
      "Viktor\n"
     ]
    },
    {
     "ename": "IndexError",
     "evalue": "list index out of range",
     "output_type": "error",
     "traceback": [
      "\u001b[1;31m---------------------------------------------------------------------------\u001b[0m",
      "\u001b[1;31mIndexError\u001b[0m                                Traceback (most recent call last)",
      "\u001b[1;32m<ipython-input-27-4afc3ffd573f>\u001b[0m in \u001b[0;36m<module>\u001b[1;34m\u001b[0m\n\u001b[0;32m      3\u001b[0m \u001b[0mprint\u001b[0m\u001b[1;33m(\u001b[0m\u001b[0mspecial_students\u001b[0m\u001b[1;33m[\u001b[0m\u001b[1;36m1\u001b[0m\u001b[1;33m]\u001b[0m\u001b[1;33m)\u001b[0m\u001b[1;33m\u001b[0m\u001b[1;33m\u001b[0m\u001b[0m\n\u001b[0;32m      4\u001b[0m \u001b[0mprint\u001b[0m\u001b[1;33m(\u001b[0m\u001b[0mspecial_students\u001b[0m\u001b[1;33m[\u001b[0m\u001b[1;36m2\u001b[0m\u001b[1;33m]\u001b[0m\u001b[1;33m)\u001b[0m\u001b[1;33m\u001b[0m\u001b[1;33m\u001b[0m\u001b[0m\n\u001b[1;32m----> 5\u001b[1;33m \u001b[0mprint\u001b[0m\u001b[1;33m(\u001b[0m\u001b[0mspecial_students\u001b[0m\u001b[1;33m[\u001b[0m\u001b[1;36m3\u001b[0m\u001b[1;33m]\u001b[0m\u001b[1;33m)\u001b[0m \u001b[1;31m# exception 발생\u001b[0m\u001b[1;33m\u001b[0m\u001b[1;33m\u001b[0m\u001b[0m\n\u001b[0m",
      "\u001b[1;31mIndexError\u001b[0m: list index out of range"
     ]
    }
   ],
   "source": [
    "print(special_students)\n",
    "print(special_students[0])\n",
    "print(special_students[1])\n",
    "print(special_students[2])\n",
    "print(special_students[3]) # exception 발생"
   ]
  },
  {
   "cell_type": "code",
   "execution_count": 28,
   "metadata": {},
   "outputs": [
    {
     "name": "stdout",
     "output_type": "stream",
     "text": [
      "['Darius', 'Dr. Mundo', 'Viktor']\n",
      "Viktor\n",
      "Dr. Mundo\n"
     ]
    }
   ],
   "source": [
    "print(special_students)\n",
    "print(special_students[-1])\n",
    "print(special_students[-2])"
   ]
  },
  {
   "cell_type": "markdown",
   "metadata": {},
   "source": [
    "## 리스트 슬라이싱"
   ]
  },
  {
   "cell_type": "code",
   "execution_count": 35,
   "metadata": {},
   "outputs": [
    {
     "name": "stdout",
     "output_type": "stream",
     "text": [
      "['Darius', 'Dr. Mundo', 'Viktor']\n",
      "['Darius']\n",
      "['Darius', 'Dr. Mundo']\n",
      "['Dr. Mundo', 'Viktor']\n",
      "['Dr. Mundo']\n",
      "['Dr. Mundo']\n"
     ]
    }
   ],
   "source": [
    "print(special_students)\n",
    "print(special_students[0:1])\n",
    "print(special_students[0:2])\n",
    "print(special_students[1:3])\n",
    "print(special_students[1:2])\n",
    "print(special_students[1:-1])"
   ]
  },
  {
   "cell_type": "markdown",
   "metadata": {},
   "source": [
    "## 리스트 길이"
   ]
  },
  {
   "cell_type": "code",
   "execution_count": 36,
   "metadata": {},
   "outputs": [
    {
     "name": "stdout",
     "output_type": "stream",
     "text": [
      "3\n"
     ]
    }
   ],
   "source": [
    "print(len(special_students))"
   ]
  },
  {
   "cell_type": "markdown",
   "metadata": {},
   "source": [
    "## 리스트 값 수정"
   ]
  },
  {
   "cell_type": "code",
   "execution_count": 39,
   "metadata": {},
   "outputs": [
    {
     "name": "stdout",
     "output_type": "stream",
     "text": [
      "['Darius', 'Dr. Mundo', 'Viktor']\n",
      "['Darius', 'Yummi', 'Viktor']\n"
     ]
    }
   ],
   "source": [
    "print(special_students)\n",
    "special_students[1] = \"Yummi\"\n",
    "print(special_students)"
   ]
  },
  {
   "cell_type": "markdown",
   "metadata": {},
   "source": [
    "## 리스트 값 삭제"
   ]
  },
  {
   "cell_type": "code",
   "execution_count": 41,
   "metadata": {
    "scrolled": true
   },
   "outputs": [
    {
     "name": "stdout",
     "output_type": "stream",
     "text": [
      "['Darius', 'Yummi', 'Viktor']\n",
      "['Darius', 'Viktor']\n"
     ]
    }
   ],
   "source": [
    "print(special_students)\n",
    "del special_students[1]\n",
    "print(special_students)"
   ]
  },
  {
   "cell_type": "markdown",
   "metadata": {},
   "source": [
    "## 리스트 값 추가"
   ]
  },
  {
   "cell_type": "code",
   "execution_count": 42,
   "metadata": {},
   "outputs": [
    {
     "name": "stdout",
     "output_type": "stream",
     "text": [
      "['Darius', 'Viktor']\n",
      "['Darius', 'Viktor', 'Dr. Mundo']\n"
     ]
    }
   ],
   "source": [
    "print(special_students)\n",
    "special_students.append(\"Dr. Mundo\")\n",
    "print(special_students)"
   ]
  },
  {
   "cell_type": "markdown",
   "metadata": {},
   "source": [
    "## 리스트 인덱스 값"
   ]
  },
  {
   "cell_type": "code",
   "execution_count": 43,
   "metadata": {},
   "outputs": [
    {
     "name": "stdout",
     "output_type": "stream",
     "text": [
      "2\n"
     ]
    }
   ],
   "source": [
    "print(special_students.index(\"Dr. Mundo\"))"
   ]
  },
  {
   "cell_type": "markdown",
   "metadata": {},
   "source": [
    "## 리스트 값 삭제"
   ]
  },
  {
   "cell_type": "code",
   "execution_count": 44,
   "metadata": {},
   "outputs": [
    {
     "name": "stdout",
     "output_type": "stream",
     "text": [
      "['Darius', 'Viktor', 'Dr. Mundo']\n",
      "['Darius', 'Viktor']\n"
     ]
    }
   ],
   "source": [
    "print(special_students)\n",
    "special_students.remove(\"Dr. Mundo\")\n",
    "print(special_students)"
   ]
  },
  {
   "cell_type": "markdown",
   "metadata": {},
   "source": [
    "참고: https://wikidocs.net/14"
   ]
  },
  {
   "cell_type": "markdown",
   "metadata": {},
   "source": [
    "# 딕셔너리"
   ]
  },
  {
   "cell_type": "markdown",
   "metadata": {},
   "source": [
    "## 딕셔너리 초기화"
   ]
  },
  {
   "cell_type": "code",
   "execution_count": 61,
   "metadata": {},
   "outputs": [],
   "source": [
    "student2score = {\n",
    "    \"Darius\": 100,\n",
    "    \"Dr. Mundo\": 80,\n",
    "    \"Morgana\": 60,\n",
    "    \"Sivir\": 75,\n",
    "    \"Yummi\": 20,\n",
    "    \"Viktor\": 97\n",
    "}"
   ]
  },
  {
   "cell_type": "markdown",
   "metadata": {},
   "source": [
    "## 딕셔너리 조회"
   ]
  },
  {
   "cell_type": "code",
   "execution_count": 62,
   "metadata": {},
   "outputs": [
    {
     "data": {
      "text/plain": [
       "100"
      ]
     },
     "execution_count": 62,
     "metadata": {},
     "output_type": "execute_result"
    }
   ],
   "source": [
    "student2score[\"Darius\"]"
   ]
  },
  {
   "cell_type": "markdown",
   "metadata": {},
   "source": [
    "## 딕셔너리 길이"
   ]
  },
  {
   "cell_type": "code",
   "execution_count": 63,
   "metadata": {},
   "outputs": [
    {
     "data": {
      "text/plain": [
       "6"
      ]
     },
     "execution_count": 63,
     "metadata": {},
     "output_type": "execute_result"
    }
   ],
   "source": [
    "len(student2score)"
   ]
  },
  {
   "cell_type": "markdown",
   "metadata": {},
   "source": [
    "## 딕셔너리 값 수정"
   ]
  },
  {
   "cell_type": "code",
   "execution_count": 64,
   "metadata": {},
   "outputs": [
    {
     "name": "stdout",
     "output_type": "stream",
     "text": [
      "100\n",
      "98\n"
     ]
    }
   ],
   "source": [
    "print(student2score[\"Darius\"])\n",
    "student2score[\"Darius\"] = 98\n",
    "print(student2score[\"Darius\"])"
   ]
  },
  {
   "cell_type": "markdown",
   "metadata": {},
   "source": [
    "## 딕셔너리 값 삭제"
   ]
  },
  {
   "cell_type": "code",
   "execution_count": 65,
   "metadata": {},
   "outputs": [
    {
     "name": "stdout",
     "output_type": "stream",
     "text": [
      "{'Darius': 98, 'Dr. Mundo': 80, 'Morgana': 60, 'Sivir': 75, 'Yummi': 20, 'Viktor': 97}\n",
      "{'Dr. Mundo': 80, 'Morgana': 60, 'Sivir': 75, 'Yummi': 20, 'Viktor': 97}\n"
     ]
    }
   ],
   "source": [
    "print(student2score)\n",
    "del student2score[\"Darius\"]\n",
    "print(student2score)"
   ]
  },
  {
   "cell_type": "markdown",
   "metadata": {},
   "source": [
    "## 딕셔너리 값 추가"
   ]
  },
  {
   "cell_type": "code",
   "execution_count": 66,
   "metadata": {},
   "outputs": [
    {
     "name": "stdout",
     "output_type": "stream",
     "text": [
      "{'Dr. Mundo': 80, 'Morgana': 60, 'Sivir': 75, 'Yummi': 20, 'Viktor': 97}\n",
      "{'Dr. Mundo': 80, 'Morgana': 60, 'Sivir': 75, 'Yummi': 20, 'Viktor': 97, 'Darius': 100}\n"
     ]
    }
   ],
   "source": [
    "print(student2score)\n",
    "student2score[\"Darius\"] = 100\n",
    "print(student2score)"
   ]
  },
  {
   "cell_type": "markdown",
   "metadata": {},
   "source": [
    "참고: https://wikidocs.net/16"
   ]
  },
  {
   "cell_type": "code",
   "execution_count": null,
   "metadata": {},
   "outputs": [],
   "source": []
  }
 ],
 "metadata": {
  "kernelspec": {
   "display_name": "Python 3",
   "language": "python",
   "name": "python3"
  },
  "language_info": {
   "codemirror_mode": {
    "name": "ipython",
    "version": 3
   },
   "file_extension": ".py",
   "mimetype": "text/x-python",
   "name": "python",
   "nbconvert_exporter": "python",
   "pygments_lexer": "ipython3",
   "version": "3.7.3"
  }
 },
 "nbformat": 4,
 "nbformat_minor": 2
}
