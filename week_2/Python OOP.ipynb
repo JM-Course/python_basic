{
 "cells": [
  {
   "cell_type": "markdown",
   "metadata": {},
   "source": [
    "# Object-oriented Programming (OOP)\n",
    "## 객체지향 프로그래밍\n",
    "### OOP가 없다면?"
   ]
  },
  {
   "cell_type": "markdown",
   "metadata": {},
   "source": [
    "### 강의에 참여하고 있는 학생을 코드로 구현해보자"
   ]
  },
  {
   "cell_type": "code",
   "execution_count": 5,
   "metadata": {
    "collapsed": false
   },
   "outputs": [],
   "source": [
    "# Student 1\n",
    "student_name_1 = \"John\"\n",
    "student_age_1 = 26\n",
    "\n",
    "# Student 2\n",
    "student_name_2 = \"Jenny\"\n",
    "student_age_2 = 29\n",
    "\n",
    "# Student 3\n",
    "student_name_3 = \"Tom\"\n",
    "student_age_3 = 23"
   ]
  },
  {
   "cell_type": "markdown",
   "metadata": {},
   "source": [
    "### 강의실에는 학생뿐 아니라 강사진도 있으니깐 추가 ㄱㄱ"
   ]
  },
  {
   "cell_type": "code",
   "execution_count": 1,
   "metadata": {
    "collapsed": true
   },
   "outputs": [],
   "source": [
    "# Student 1\n",
    "student_name_1 = \"John\"\n",
    "student_age_1 = 21\n",
    "\n",
    "# Student 2\n",
    "student_name_2 = \"Jenny\"\n",
    "student_age_2 = 25\n",
    "\n",
    "# Student 3\n",
    "student_name_3 = \"Tom\"\n",
    "student_age_3 = 23\n",
    "\n",
    "# Teacher 1\n",
    "teacher_name_1 = \"Olivia\"\n",
    "teacher_age_1 = 26\n",
    "\n",
    "# Teacher 2\n",
    "teacher_name_2 = \"Dylan\"\n",
    "teacher_age_2 = 29"
   ]
  },
  {
   "cell_type": "markdown",
   "metadata": {},
   "source": [
    "### 학생 한명 (Jenny)이 개인 사정으로 강의를 더이상 못 듣게 됐을 때"
   ]
  },
  {
   "cell_type": "code",
   "execution_count": 7,
   "metadata": {
    "collapsed": true
   },
   "outputs": [],
   "source": [
    "# Student 1\n",
    "student_name_1 = \"John\"\n",
    "student_age_1 = 21\n",
    "\n",
    "# Student 3\n",
    "student_name_3 = \"Tom\"\n",
    "student_age_3 = 23\n",
    "\n",
    "# Teacher 1\n",
    "teacher_name_1 = \"Olivia\"\n",
    "teacher_age_1 = 26\n",
    "\n",
    "# Teacher 2\n",
    "teacher_name_2 = \"Dylan\"\n",
    "teacher_age_2 = 29"
   ]
  },
  {
   "cell_type": "markdown",
   "metadata": {},
   "source": [
    "너무 번거롭....다....\n",
    "\n",
    "Array와 Dictionary를 사용하면 좀 낫지 않을까?"
   ]
  },
  {
   "cell_type": "code",
   "execution_count": 12,
   "metadata": {
    "collapsed": true
   },
   "outputs": [],
   "source": [
    "students = [\n",
    "    {\n",
    "        \"name\": \"John\",\n",
    "        \"age\": 21\n",
    "    },\n",
    "    {\n",
    "        \"name\": \"Jenny\",\n",
    "        \"age\": 25\n",
    "    },\n",
    "    {\n",
    "        \"name\": \"Tom\",\n",
    "        \"age\": 23\n",
    "    }\n",
    "]\n",
    "\n",
    "teachers = [\n",
    "    {\n",
    "        \"name\": \"Olivia\",\n",
    "        \"age\": 26\n",
    "    },\n",
    "    {\n",
    "        \"name\": \"Dylan\",\n",
    "        \"age\": 29\n",
    "    }\n",
    "]"
   ]
  },
  {
   "cell_type": "markdown",
   "metadata": {},
   "source": [
    "### 다시 학생 한명 (Jenny)이 개인 사정으로 강의를 더이상 못 듣게 됐을 때"
   ]
  },
  {
   "cell_type": "code",
   "execution_count": 13,
   "metadata": {
    "collapsed": true
   },
   "outputs": [],
   "source": [
    "del students[1]"
   ]
  },
  {
   "cell_type": "code",
   "execution_count": 14,
   "metadata": {
    "collapsed": false
   },
   "outputs": [
    {
     "data": {
      "text/plain": [
       "[{'age': 21, 'name': 'John'}, {'age': 23, 'name': 'Tom'}]"
      ]
     },
     "execution_count": 14,
     "metadata": {},
     "output_type": "execute_result"
    }
   ],
   "source": [
    "students"
   ]
  },
  {
   "cell_type": "markdown",
   "metadata": {},
   "source": [
    "오~ 이건 좀 낫네 \n",
    "\n",
    "하지만 여전히 계속해서 중복되는 name, age......"
   ]
  },
  {
   "cell_type": "markdown",
   "metadata": {},
   "source": [
    "이때 필요한 것이 OOP\n",
    "\n",
    "학생이나 선생은 결국 이름과 나이를 갖고 있는 사람!!!\n",
    "\n",
    "논리적으로 묶어보자!!"
   ]
  },
  {
   "cell_type": "code",
   "execution_count": 28,
   "metadata": {
    "collapsed": true
   },
   "outputs": [],
   "source": [
    "class Person(object):\n",
    "    def __init__(self, name, age):\n",
    "        self.name = name\n",
    "        self.age = age\n",
    "        \n",
    "    def __repr__(self):\n",
    "        return self.name"
   ]
  },
  {
   "cell_type": "code",
   "execution_count": 29,
   "metadata": {
    "collapsed": false
   },
   "outputs": [],
   "source": [
    "students = [Person(\"John\", 21), Person(\"Jenny\", 25), Person(\"Tom\", 23)]\n",
    "teachers = [Person(\"Olivia\", 26), Person(\"Dylan\", 29)]"
   ]
  },
  {
   "cell_type": "code",
   "execution_count": 30,
   "metadata": {
    "collapsed": false
   },
   "outputs": [
    {
     "data": {
      "text/plain": [
       "[John, Jenny, Tom]"
      ]
     },
     "execution_count": 30,
     "metadata": {},
     "output_type": "execute_result"
    }
   ],
   "source": [
    "students"
   ]
  },
  {
   "cell_type": "code",
   "execution_count": 31,
   "metadata": {
    "collapsed": false
   },
   "outputs": [
    {
     "data": {
      "text/plain": [
       "25"
      ]
     },
     "execution_count": 31,
     "metadata": {},
     "output_type": "execute_result"
    }
   ],
   "source": [
    "students[1].age"
   ]
  },
  {
   "cell_type": "code",
   "execution_count": 33,
   "metadata": {
    "collapsed": false
   },
   "outputs": [
    {
     "data": {
      "text/plain": [
       "'Jenny'"
      ]
     },
     "execution_count": 33,
     "metadata": {},
     "output_type": "execute_result"
    }
   ],
   "source": [
    "students[1].name"
   ]
  },
  {
   "cell_type": "markdown",
   "metadata": {},
   "source": [
    "중복이 많이 해소된 것을 확인할 수 있음"
   ]
  },
  {
   "cell_type": "markdown",
   "metadata": {},
   "source": [
    "### (만약) 오늘은 2019년 12월 31일, 그리고 내일은 2020년 1월 1일  \n",
    "### 사람은 누가 해가 바뀌면 나이를 먹고 강의를 듣고 있는 학생과 선생 모두 한살씩 나이가 많아지는데 어떻게 하지?"
   ]
  },
  {
   "cell_type": "code",
   "execution_count": 51,
   "metadata": {
    "collapsed": true
   },
   "outputs": [],
   "source": [
    "class Person(object):\n",
    "    def __init__(self, name, age):\n",
    "        self.name = name\n",
    "        self.age = age\n",
    "        \n",
    "    def __repr__(self):\n",
    "        return self.name + \"/\" + str(self.age)\n",
    "    \n",
    "    def increase_age_by_one(self):\n",
    "        self.age += 1"
   ]
  },
  {
   "cell_type": "markdown",
   "metadata": {},
   "source": [
    "__init__: 생성자, 객체를 만들 때 가장 먼저 실행되는 부분"
   ]
  },
  {
   "cell_type": "code",
   "execution_count": null,
   "metadata": {
    "collapsed": true
   },
   "outputs": [],
   "source": [
    "# TODO 설명 추가"
   ]
  },
  {
   "cell_type": "code",
   "execution_count": 52,
   "metadata": {
    "collapsed": true
   },
   "outputs": [],
   "source": [
    "students = [Person(\"John\", 21), Person(\"Jenny\", 25), Person(\"Tom\", 23)]\n",
    "teachers = [Person(\"Olivia\", 26), Person(\"Dylan\", 29)]"
   ]
  },
  {
   "cell_type": "code",
   "execution_count": 53,
   "metadata": {
    "collapsed": false
   },
   "outputs": [
    {
     "data": {
      "text/plain": [
       "[John/21, Jenny/25, Tom/23]"
      ]
     },
     "execution_count": 53,
     "metadata": {},
     "output_type": "execute_result"
    }
   ],
   "source": [
    "students"
   ]
  },
  {
   "cell_type": "code",
   "execution_count": 54,
   "metadata": {
    "collapsed": false
   },
   "outputs": [
    {
     "data": {
      "text/plain": [
       "[Olivia/26, Dylan/29]"
      ]
     },
     "execution_count": 54,
     "metadata": {},
     "output_type": "execute_result"
    }
   ],
   "source": [
    "teachers"
   ]
  },
  {
   "cell_type": "code",
   "execution_count": 55,
   "metadata": {
    "collapsed": false
   },
   "outputs": [],
   "source": [
    "for student in students:\n",
    "    student.increase_age_by_one()\n",
    "\n",
    "for teacher in teachers:\n",
    "    teacher.increase_age_by_one()"
   ]
  },
  {
   "cell_type": "code",
   "execution_count": 56,
   "metadata": {
    "collapsed": false
   },
   "outputs": [
    {
     "data": {
      "text/plain": [
       "[John/22, Jenny/26, Tom/24]"
      ]
     },
     "execution_count": 56,
     "metadata": {},
     "output_type": "execute_result"
    }
   ],
   "source": [
    "students"
   ]
  },
  {
   "cell_type": "code",
   "execution_count": 57,
   "metadata": {
    "collapsed": false,
    "scrolled": true
   },
   "outputs": [
    {
     "data": {
      "text/plain": [
       "[Olivia/27, Dylan/30]"
      ]
     },
     "execution_count": 57,
     "metadata": {},
     "output_type": "execute_result"
    }
   ],
   "source": [
    "teachers"
   ]
  },
  {
   "cell_type": "markdown",
   "metadata": {},
   "source": [
    "### 클래스 static variable"
   ]
  },
  {
   "cell_type": "code",
   "execution_count": 398,
   "metadata": {
    "collapsed": false,
    "scrolled": false
   },
   "outputs": [
    {
     "name": "stdout",
     "output_type": "stream",
     "text": [
      "1\n",
      "1\n",
      "2\n",
      "2\n",
      "3\n",
      "3\n",
      "2\n",
      "1\n",
      "0\n"
     ]
    }
   ],
   "source": [
    "class Account:\n",
    "    num_accounts = 0\n",
    "\n",
    "    def __init__(self, name):\n",
    "        self.name = name\n",
    "        self.__class__.num_accounts += 1\n",
    "\n",
    "    def __del__(self):\n",
    "        self.__class__.num_accounts -= 1\n",
    "\n",
    "\n",
    "kim = Account(\"kim\")\n",
    "print(kim.num_accounts)\n",
    "print(Account.num_accounts)\n",
    "\n",
    "lee = Account(\"lee\")\n",
    "print(lee.num_accounts)\n",
    "print(Account.num_accounts)\n",
    "\n",
    "park = Account(\"park\")\n",
    "print(kim.num_accounts)\n",
    "print(Account.num_accounts)\n",
    "\n",
    "del kim\n",
    "print(Account.num_accounts)\n",
    "\n",
    "del lee\n",
    "print(Account.num_accounts)\n",
    "\n",
    "del park\n",
    "print(Account.num_accounts)\n"
   ]
  },
  {
   "cell_type": "markdown",
   "metadata": {},
   "source": [
    "### static method"
   ]
  },
  {
   "cell_type": "code",
   "execution_count": 21,
   "metadata": {
    "collapsed": true
   },
   "outputs": [],
   "source": [
    "class Person(object):\n",
    "    def __init__(self, name, age):\n",
    "        self.name = name\n",
    "        self.age = age\n",
    "        \n",
    "    def __repr__(self):\n",
    "        return self.name + \"/\" + str(self.age)\n",
    "    \n",
    "    def increase_age_by_one(self):\n",
    "        self.age += 1\n",
    "        \n",
    "    def is_adult(self):\n",
    "        return self.age >= 20"
   ]
  },
  {
   "cell_type": "code",
   "execution_count": 22,
   "metadata": {
    "collapsed": false
   },
   "outputs": [
    {
     "data": {
      "text/plain": [
       "False"
      ]
     },
     "execution_count": 22,
     "metadata": {},
     "output_type": "execute_result"
    }
   ],
   "source": [
    "john = Person(\"Teddy\", 18)\n",
    "john.is_adult()"
   ]
  },
  {
   "cell_type": "code",
   "execution_count": 23,
   "metadata": {
    "collapsed": false,
    "scrolled": true
   },
   "outputs": [
    {
     "data": {
      "text/plain": [
       "True"
      ]
     },
     "execution_count": 23,
     "metadata": {},
     "output_type": "execute_result"
    }
   ],
   "source": [
    "olivia = Person(\"Olivia\", 26)\n",
    "olivia.is_adult()"
   ]
  },
  {
   "cell_type": "code",
   "execution_count": 24,
   "metadata": {
    "collapsed": true
   },
   "outputs": [],
   "source": [
    "class Person(object):\n",
    "    def __init__(self, name, age):\n",
    "        self.name = name\n",
    "        self.age = age\n",
    "        \n",
    "    def __repr__(self):\n",
    "        return self.name + \"/\" + str(self.age)\n",
    "    \n",
    "    def increase_age_by_one(self):\n",
    "        self.age += 1\n",
    "    \n",
    "    @staticmethod\n",
    "    def is_adult(age):\n",
    "        return age >= 20"
   ]
  },
  {
   "cell_type": "code",
   "execution_count": 26,
   "metadata": {
    "collapsed": false
   },
   "outputs": [
    {
     "data": {
      "text/plain": [
       "True"
      ]
     },
     "execution_count": 26,
     "metadata": {},
     "output_type": "execute_result"
    }
   ],
   "source": [
    "olivia = Person(\"Olivia\", 26)\n",
    "Person.is_adult(olivia.age)"
   ]
  },
  {
   "cell_type": "code",
   "execution_count": 27,
   "metadata": {
    "collapsed": false
   },
   "outputs": [
    {
     "data": {
      "text/plain": [
       "False"
      ]
     },
     "execution_count": 27,
     "metadata": {},
     "output_type": "execute_result"
    }
   ],
   "source": [
    "Person.is_adult(age=5)"
   ]
  },
  {
   "cell_type": "markdown",
   "metadata": {},
   "source": [
    "### static method vs class method"
   ]
  },
  {
   "cell_type": "code",
   "execution_count": 1,
   "metadata": {
    "collapsed": true
   },
   "outputs": [],
   "source": [
    "class Calculator(object):\n",
    "    @staticmethod\n",
    "    def add(a, b):\n",
    "        return a + b\n",
    "    \n",
    "    @staticmethod\n",
    "    def sub(a, b):\n",
    "        return a - b"
   ]
  },
  {
   "cell_type": "code",
   "execution_count": 2,
   "metadata": {
    "collapsed": false
   },
   "outputs": [
    {
     "data": {
      "text/plain": [
       "8"
      ]
     },
     "execution_count": 2,
     "metadata": {},
     "output_type": "execute_result"
    }
   ],
   "source": [
    "Calculator.add(3, 5)"
   ]
  },
  {
   "cell_type": "code",
   "execution_count": 3,
   "metadata": {
    "collapsed": false
   },
   "outputs": [
    {
     "data": {
      "text/plain": [
       "-2"
      ]
     },
     "execution_count": 3,
     "metadata": {},
     "output_type": "execute_result"
    }
   ],
   "source": [
    "Calculator.sub(3, 5)"
   ]
  },
  {
   "cell_type": "code",
   "execution_count": 7,
   "metadata": {
    "collapsed": true
   },
   "outputs": [],
   "source": [
    "class Calculator(object):\n",
    "    @classmethod\n",
    "    def add(cls, a, b):\n",
    "        return a + b\n",
    "    \n",
    "    @classmethod\n",
    "    def sub(cls, a, b):\n",
    "        return a - b"
   ]
  },
  {
   "cell_type": "code",
   "execution_count": 8,
   "metadata": {
    "collapsed": false
   },
   "outputs": [
    {
     "data": {
      "text/plain": [
       "8"
      ]
     },
     "execution_count": 8,
     "metadata": {},
     "output_type": "execute_result"
    }
   ],
   "source": [
    "Calculator.add(3, 5)"
   ]
  },
  {
   "cell_type": "code",
   "execution_count": 9,
   "metadata": {
    "collapsed": false
   },
   "outputs": [
    {
     "data": {
      "text/plain": [
       "-2"
      ]
     },
     "execution_count": 9,
     "metadata": {},
     "output_type": "execute_result"
    }
   ],
   "source": [
    "Calculator.sub(3, 5)"
   ]
  },
  {
   "cell_type": "code",
   "execution_count": 31,
   "metadata": {
    "collapsed": true
   },
   "outputs": [],
   "source": [
    "class Person(object):\n",
    "    def __init__(self, name, age):\n",
    "        self.name = name\n",
    "        self.age = age\n",
    "        \n",
    "    def __repr__(self):\n",
    "        return self.name + \"/\" + str(self.age)\n",
    "    \n",
    "    @staticmethod\n",
    "    def get_person_list(data):\n",
    "        result = []\n",
    "        for name, age in data:\n",
    "            result.append(Person(name, age))\n",
    "        return result"
   ]
  },
  {
   "cell_type": "code",
   "execution_count": 32,
   "metadata": {
    "collapsed": true
   },
   "outputs": [],
   "source": [
    "data = [(\"John\", 21), (\"Olivia\", 26)]"
   ]
  },
  {
   "cell_type": "code",
   "execution_count": 33,
   "metadata": {
    "collapsed": false
   },
   "outputs": [],
   "source": [
    "person_list = Person.get_person_list(data)"
   ]
  },
  {
   "cell_type": "code",
   "execution_count": 34,
   "metadata": {
    "collapsed": false
   },
   "outputs": [
    {
     "data": {
      "text/plain": [
       "[John/21, Olivia/26]"
      ]
     },
     "execution_count": 34,
     "metadata": {},
     "output_type": "execute_result"
    }
   ],
   "source": [
    "person_list"
   ]
  },
  {
   "cell_type": "code",
   "execution_count": 37,
   "metadata": {
    "collapsed": true
   },
   "outputs": [],
   "source": [
    "class Person(object):\n",
    "    def __init__(self, name, age):\n",
    "        self.name = name\n",
    "        self.age = age\n",
    "        \n",
    "    def __repr__(self):\n",
    "        return self.name + \"/\" + str(self.age)\n",
    "    \n",
    "    @classmethod\n",
    "    def get_person_list(cls, data):\n",
    "        result = []\n",
    "        for name, age in data:\n",
    "            result.append(cls(name, age))\n",
    "        return result"
   ]
  },
  {
   "cell_type": "code",
   "execution_count": 38,
   "metadata": {
    "collapsed": false
   },
   "outputs": [],
   "source": [
    "data = [(\"John\", 21), (\"Olivia\", 26)]\n",
    "person_list = Person.get_person_list(data)"
   ]
  },
  {
   "cell_type": "code",
   "execution_count": 39,
   "metadata": {
    "collapsed": false
   },
   "outputs": [
    {
     "data": {
      "text/plain": [
       "[John/21, Olivia/26]"
      ]
     },
     "execution_count": 39,
     "metadata": {},
     "output_type": "execute_result"
    }
   ],
   "source": [
    "person_list"
   ]
  },
  {
   "cell_type": "code",
   "execution_count": 40,
   "metadata": {
    "collapsed": true
   },
   "outputs": [],
   "source": [
    "class Account:\n",
    "    num_accounts = 0\n",
    "\n",
    "    def __init__(self, name):\n",
    "        self.name = name\n",
    "        self.__class__.num_accounts += 1\n",
    "\n",
    "    def __del__(self):\n",
    "        self.__class__.num_accounts -= 1\n",
    "    \n",
    "    @staticmethod\n",
    "    def print_num_accounts():\n",
    "        print(Account.num_accounts)"
   ]
  },
  {
   "cell_type": "code",
   "execution_count": 41,
   "metadata": {
    "collapsed": false
   },
   "outputs": [
    {
     "name": "stdout",
     "output_type": "stream",
     "text": [
      "0\n"
     ]
    }
   ],
   "source": [
    "Account.print_num_accounts()"
   ]
  },
  {
   "cell_type": "code",
   "execution_count": 42,
   "metadata": {
    "collapsed": false
   },
   "outputs": [
    {
     "name": "stdout",
     "output_type": "stream",
     "text": [
      "1\n"
     ]
    }
   ],
   "source": [
    "kim = Account(\"kim\")\n",
    "Account.print_num_accounts()"
   ]
  },
  {
   "cell_type": "code",
   "execution_count": 43,
   "metadata": {
    "collapsed": true
   },
   "outputs": [],
   "source": [
    "class Account:\n",
    "    num_accounts = 0\n",
    "\n",
    "    def __init__(self, name):\n",
    "        self.name = name\n",
    "        self.__class__.num_accounts += 1\n",
    "\n",
    "    def __del__(self):\n",
    "        self.__class__.num_accounts -= 1\n",
    "    \n",
    "    @classmethod\n",
    "    def print_num_accounts(cls):\n",
    "        print(cls.num_accounts)"
   ]
  },
  {
   "cell_type": "code",
   "execution_count": 44,
   "metadata": {
    "collapsed": false
   },
   "outputs": [
    {
     "name": "stdout",
     "output_type": "stream",
     "text": [
      "0\n"
     ]
    }
   ],
   "source": [
    "Account.print_num_accounts()"
   ]
  },
  {
   "cell_type": "code",
   "execution_count": 45,
   "metadata": {
    "collapsed": false
   },
   "outputs": [
    {
     "name": "stdout",
     "output_type": "stream",
     "text": [
      "1\n"
     ]
    }
   ],
   "source": [
    "kim = Account(\"kim\")\n",
    "Account.print_num_accounts()"
   ]
  },
  {
   "cell_type": "markdown",
   "metadata": {},
   "source": [
    "### 상속"
   ]
  },
  {
   "cell_type": "code",
   "execution_count": 49,
   "metadata": {
    "collapsed": true
   },
   "outputs": [],
   "source": [
    "class Person(object):\n",
    "    def __init__(self, name, age):\n",
    "        self.name = name\n",
    "        self.age = age\n",
    "        \n",
    "    def __repr__(self):\n",
    "        return self.name"
   ]
  },
  {
   "cell_type": "markdown",
   "metadata": {},
   "source": [
    "학생과 선생님은 사람이지 필요한 field가 아래의 경우처럼 미세하게 다를 때 어떻게 구현하나?\n",
    "\n",
    "시스템에서 학생들의 성적을 관리하기 위해 학생은 추가로 시험점수를 넣은 변수가 필요하다.\n",
    "\n",
    "시스템에서 선생님의 월급을 관리하기 위해 선생님은 추가로 월급을 넣을 변수가 필요하다."
   ]
  },
  {
   "cell_type": "code",
   "execution_count": 50,
   "metadata": {
    "collapsed": false
   },
   "outputs": [],
   "source": [
    "class Person(object):\n",
    "    def __init__(self, name, age, score, salary):\n",
    "        self.name = name\n",
    "        self.age = age\n",
    "        self.score = score\n",
    "        self.salary = salary\n",
    "        \n",
    "    def __repr__(self):\n",
    "        return self.name"
   ]
  },
  {
   "cell_type": "code",
   "execution_count": 55,
   "metadata": {
    "collapsed": true
   },
   "outputs": [],
   "source": [
    "students = [Person(\"John\", 21, 100, None), Person(\"Jenny\", 25, 80, None), Person(\"Tom\", 23, 90, None)]\n",
    "teachers = [Person(\"Olivia\", 26, None, 250), Person(\"Dylan\", 29, None, 200)]"
   ]
  },
  {
   "cell_type": "code",
   "execution_count": 67,
   "metadata": {
    "collapsed": false
   },
   "outputs": [
    {
     "name": "stdout",
     "output_type": "stream",
     "text": [
      "John 100\n"
     ]
    }
   ],
   "source": [
    "print(students[0].name, students[0].score)"
   ]
  },
  {
   "cell_type": "code",
   "execution_count": 68,
   "metadata": {
    "collapsed": false
   },
   "outputs": [
    {
     "name": "stdout",
     "output_type": "stream",
     "text": [
      "Olivia 250\n"
     ]
    }
   ],
   "source": [
    "print(teachers[0].name, teachers[0].salary)"
   ]
  },
  {
   "cell_type": "markdown",
   "metadata": {},
   "source": [
    "1. 불필요한 파라미터가 생김 => 비효율\n",
    "2. Person의 객체들에게 score, salary가 name, age처럼 논리적으로 합당한가?"
   ]
  },
  {
   "cell_type": "code",
   "execution_count": 69,
   "metadata": {
    "collapsed": true
   },
   "outputs": [],
   "source": [
    "class Student(object):\n",
    "    def __init__(self, name, age, score):\n",
    "        self.name = name\n",
    "        self.age = age\n",
    "        self.score = score\n",
    "        \n",
    "    def __repr__(self):\n",
    "        return self.name"
   ]
  },
  {
   "cell_type": "code",
   "execution_count": 70,
   "metadata": {
    "collapsed": true
   },
   "outputs": [],
   "source": [
    "class Teacher(object):\n",
    "    def __init__(self, name, age, salary):\n",
    "        self.name = name\n",
    "        self.age = age\n",
    "        self.salary = salary\n",
    "        \n",
    "    def __repr__(self):\n",
    "        return self.name"
   ]
  },
  {
   "cell_type": "code",
   "execution_count": 71,
   "metadata": {
    "collapsed": false
   },
   "outputs": [],
   "source": [
    "students = [Student(\"John\", 21, 100), Student(\"Jenny\", 25, 80), Student(\"Tom\", 23, 90)]\n",
    "teachers = [Teacher(\"Olivia\", 26, 250), Teacher(\"Dylan\", 29, 200)]"
   ]
  },
  {
   "cell_type": "code",
   "execution_count": 72,
   "metadata": {
    "collapsed": false
   },
   "outputs": [
    {
     "name": "stdout",
     "output_type": "stream",
     "text": [
      "John 100\n"
     ]
    }
   ],
   "source": [
    "print(students[0].name, students[0].score)"
   ]
  },
  {
   "cell_type": "code",
   "execution_count": 73,
   "metadata": {
    "collapsed": false
   },
   "outputs": [
    {
     "name": "stdout",
     "output_type": "stream",
     "text": [
      "Olivia 250\n"
     ]
    }
   ],
   "source": [
    "print(teachers[0].name, teachers[0].salary)"
   ]
  },
  {
   "cell_type": "markdown",
   "metadata": {},
   "source": [
    "1. 불필요한 파라미터가 생김 => 비효율\n",
    "2. Person의 객체들에게 score, salary가 name, age처럼 논리적으로 합당한가?\n",
    "=> 두 문제 모두 해결\n",
    "\n",
    "\n",
    "하지만 Student에도 name, age, Teacher에도 name, age 중복이 너무 많음 ㅠㅠ\n",
    "\n",
    "=> 상속!!!"
   ]
  },
  {
   "cell_type": "code",
   "execution_count": 76,
   "metadata": {
    "collapsed": true
   },
   "outputs": [],
   "source": [
    "class Person(object):\n",
    "    def __init__(self, name, age):\n",
    "        self.name = name\n",
    "        self.age = age\n",
    "        \n",
    "    def __repr__(self):\n",
    "        return self.name"
   ]
  },
  {
   "cell_type": "code",
   "execution_count": 77,
   "metadata": {
    "collapsed": true
   },
   "outputs": [],
   "source": [
    "class Student(Person):\n",
    "    def __init__(self, name, age, score):\n",
    "        super().__init__(name, age)\n",
    "        self.score = score"
   ]
  },
  {
   "cell_type": "code",
   "execution_count": 78,
   "metadata": {
    "collapsed": true
   },
   "outputs": [],
   "source": [
    "class Teacher(Person):\n",
    "    def __init__(self, name, age, salary):\n",
    "        super().__init__(name, age)\n",
    "        self.salary = salary"
   ]
  },
  {
   "cell_type": "code",
   "execution_count": 79,
   "metadata": {
    "collapsed": true
   },
   "outputs": [],
   "source": [
    "students = [Student(\"John\", 21, 100), Student(\"Jenny\", 25, 80), Student(\"Tom\", 23, 90)]\n",
    "teachers = [Teacher(\"Olivia\", 26, 250), Teacher(\"Dylan\", 29, 200)]"
   ]
  },
  {
   "cell_type": "code",
   "execution_count": 80,
   "metadata": {
    "collapsed": false
   },
   "outputs": [
    {
     "name": "stdout",
     "output_type": "stream",
     "text": [
      "John 100\n"
     ]
    }
   ],
   "source": [
    "print(students[0].name, students[0].score)"
   ]
  },
  {
   "cell_type": "code",
   "execution_count": 81,
   "metadata": {
    "collapsed": false,
    "scrolled": true
   },
   "outputs": [
    {
     "name": "stdout",
     "output_type": "stream",
     "text": [
      "Olivia 250\n"
     ]
    }
   ],
   "source": [
    "print(teachers[0].name, teachers[0].salary)"
   ]
  },
  {
   "cell_type": "code",
   "execution_count": 82,
   "metadata": {
    "collapsed": true
   },
   "outputs": [],
   "source": [
    "person = Person(\"Nami\", 22)"
   ]
  },
  {
   "cell_type": "code",
   "execution_count": 83,
   "metadata": {
    "collapsed": false
   },
   "outputs": [
    {
     "name": "stdout",
     "output_type": "stream",
     "text": [
      "Nami 22\n"
     ]
    }
   ],
   "source": [
    "print(person.name, person.age)"
   ]
  },
  {
   "cell_type": "markdown",
   "metadata": {},
   "source": [
    "코드 중복을 해결함"
   ]
  },
  {
   "cell_type": "code",
   "execution_count": 90,
   "metadata": {
    "collapsed": true
   },
   "outputs": [],
   "source": [
    "class Person(object):\n",
    "    def __init__(self, name, age):\n",
    "        self.name = name\n",
    "        self.age = age\n",
    "        \n",
    "    def __repr__(self):\n",
    "        return self.name\n",
    "    \n",
    "    def print_identity(self):\n",
    "        print(\"%s님은 사람 입니다.\" % (self.name))"
   ]
  },
  {
   "cell_type": "code",
   "execution_count": 91,
   "metadata": {
    "collapsed": true
   },
   "outputs": [],
   "source": [
    "class Student(Person):\n",
    "    def __init__(self, name, age, score):\n",
    "        super().__init__(name, age)\n",
    "        self.score = score\n",
    "    \n",
    "    def print_identity(self):\n",
    "        print(\"%s님은 학생 입니다.\" % (self.name))"
   ]
  },
  {
   "cell_type": "code",
   "execution_count": 92,
   "metadata": {
    "collapsed": true
   },
   "outputs": [],
   "source": [
    "class Teacher(Person):\n",
    "    def __init__(self, name, age, salary):\n",
    "        super().__init__(name, age)\n",
    "        self.salary = salary\n",
    "            \n",
    "    def print_identity(self):\n",
    "        print(\"%s님은 선생님 입니다.\" % (self.name))"
   ]
  },
  {
   "cell_type": "code",
   "execution_count": 93,
   "metadata": {
    "collapsed": false
   },
   "outputs": [
    {
     "name": "stdout",
     "output_type": "stream",
     "text": [
      "Nami님은 사람 입니다.\n",
      "John님은 학생 입니다.\n",
      "Olivia님은 선생님 입니다.\n"
     ]
    }
   ],
   "source": [
    "person = Person(\"Nami\", 22)\n",
    "person.print_identity()\n",
    "student = Student(\"John\", 21, 100)\n",
    "student.print_identity()\n",
    "teacher = Teacher(\"Olivia\", 26, 250)\n",
    "teacher.print_identity()"
   ]
  },
  {
   "cell_type": "raw",
   "metadata": {},
   "source": [
    "디바이스 => turn_on(), turn_off()\n",
    "선풍기(디바이스) => start_rotation() \n",
    "휴대폰(디바이스) => ring()"
   ]
  },
  {
   "cell_type": "code",
   "execution_count": null,
   "metadata": {
    "collapsed": true
   },
   "outputs": [],
   "source": []
  }
 ],
 "metadata": {
  "kernelspec": {
   "display_name": "Python 3",
   "language": "python",
   "name": "python3"
  },
  "language_info": {
   "codemirror_mode": {
    "name": "ipython",
    "version": 3
   },
   "file_extension": ".py",
   "mimetype": "text/x-python",
   "name": "python",
   "nbconvert_exporter": "python",
   "pygments_lexer": "ipython3",
   "version": "3.6.0"
  }
 },
 "nbformat": 4,
 "nbformat_minor": 2
}
