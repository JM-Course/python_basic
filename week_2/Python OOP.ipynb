{
 "cells": [
  {
   "cell_type": "markdown",
   "metadata": {},
   "source": [
    "# Object-oriented Programming (OOP)\n",
    "## 객체지향 프로그래밍\n",
    "### OOP가 없다면?"
   ]
  },
  {
   "cell_type": "markdown",
   "metadata": {},
   "source": [
    "### 강의에 참여하고 있는 학생을 코드로 구현해보자"
   ]
  },
  {
   "cell_type": "code",
   "execution_count": 5,
   "metadata": {
    "collapsed": false
   },
   "outputs": [],
   "source": [
    "# Student 1\n",
    "student_name_1 = \"John\"\n",
    "student_age_1 = 26\n",
    "\n",
    "# Student 2\n",
    "student_name_2 = \"Jenny\"\n",
    "student_age_2 = 29\n",
    "\n",
    "# Student 3\n",
    "student_name_3 = \"Tom\"\n",
    "student_age_3 = 23"
   ]
  },
  {
   "cell_type": "markdown",
   "metadata": {},
   "source": [
    "### 강의실에는 학생뿐 아니라 강사진도 있으니깐 추가 ㄱㄱ"
   ]
  },
  {
   "cell_type": "code",
   "execution_count": 1,
   "metadata": {
    "collapsed": true
   },
   "outputs": [],
   "source": [
    "# Student 1\n",
    "student_name_1 = \"John\"\n",
    "student_age_1 = 21\n",
    "\n",
    "# Student 2\n",
    "student_name_2 = \"Jenny\"\n",
    "student_age_2 = 25\n",
    "\n",
    "# Student 3\n",
    "student_name_3 = \"Tom\"\n",
    "student_age_3 = 23\n",
    "\n",
    "# Teacher 1\n",
    "teacher_name_1 = \"Olivia\"\n",
    "teacher_age_1 = 26\n",
    "\n",
    "# Teacher 2\n",
    "teacher_name_2 = \"Dylan\"\n",
    "teacher_age_2 = 29"
   ]
  },
  {
   "cell_type": "markdown",
   "metadata": {},
   "source": [
    "### 학생 한명 (Jenny)이 개인 사정으로 강의를 더이상 못 듣게 됐을 때"
   ]
  },
  {
   "cell_type": "code",
   "execution_count": 7,
   "metadata": {
    "collapsed": true
   },
   "outputs": [],
   "source": [
    "# Student 1\n",
    "student_name_1 = \"John\"\n",
    "student_age_1 = 21\n",
    "\n",
    "# Student 3\n",
    "student_name_3 = \"Tom\"\n",
    "student_age_3 = 23\n",
    "\n",
    "# Teacher 1\n",
    "teacher_name_1 = \"Olivia\"\n",
    "teacher_age_1 = 26\n",
    "\n",
    "# Teacher 2\n",
    "teacher_name_2 = \"Dylan\"\n",
    "teacher_age_2 = 29"
   ]
  },
  {
   "cell_type": "markdown",
   "metadata": {},
   "source": [
    "너무 번거롭....다....\n",
    "\n",
    "Array와 Dictionary를 사용하면 좀 낫지 않을까?"
   ]
  },
  {
   "cell_type": "code",
   "execution_count": 12,
   "metadata": {
    "collapsed": true
   },
   "outputs": [],
   "source": [
    "students = [\n",
    "    {\n",
    "        \"name\": \"John\",\n",
    "        \"age\": 21\n",
    "    },\n",
    "    {\n",
    "        \"name\": \"Jenny\",\n",
    "        \"age\": 25\n",
    "    },\n",
    "    {\n",
    "        \"name\": \"Tom\",\n",
    "        \"age\": 23\n",
    "    }\n",
    "]\n",
    "\n",
    "teachers = [\n",
    "    {\n",
    "        \"name\": \"Olivia\",\n",
    "        \"age\": 26\n",
    "    },\n",
    "    {\n",
    "        \"name\": \"Dylan\",\n",
    "        \"age\": 29\n",
    "    }\n",
    "]"
   ]
  },
  {
   "cell_type": "markdown",
   "metadata": {},
   "source": [
    "### 다시 학생 한명 (Jenny)이 개인 사정으로 강의를 더이상 못 듣게 됐을 때"
   ]
  },
  {
   "cell_type": "code",
   "execution_count": 13,
   "metadata": {
    "collapsed": true
   },
   "outputs": [],
   "source": [
    "del students[1]"
   ]
  },
  {
   "cell_type": "code",
   "execution_count": 14,
   "metadata": {
    "collapsed": false
   },
   "outputs": [
    {
     "data": {
      "text/plain": [
       "[{'age': 21, 'name': 'John'}, {'age': 23, 'name': 'Tom'}]"
      ]
     },
     "execution_count": 14,
     "metadata": {},
     "output_type": "execute_result"
    }
   ],
   "source": [
    "students"
   ]
  },
  {
   "cell_type": "markdown",
   "metadata": {},
   "source": [
    "오~ 이건 좀 낫네 \n",
    "\n",
    "하지만 여전히 계속해서 중복되는 name, age......"
   ]
  },
  {
   "cell_type": "markdown",
   "metadata": {},
   "source": [
    "이때 필요한 것이 OOP\n",
    "\n",
    "학생이나 선생은 결국 이름과 나이를 갖고 있는 사람!!!\n",
    "\n",
    "논리적으로 묶어보자!!"
   ]
  },
  {
   "cell_type": "code",
   "execution_count": 28,
   "metadata": {
    "collapsed": true
   },
   "outputs": [],
   "source": [
    "class Person(object):\n",
    "    def __init__(self, name, age):\n",
    "        self.name = name\n",
    "        self.age = age\n",
    "        \n",
    "    def __repr__(self):\n",
    "        return self.name"
   ]
  },
  {
   "cell_type": "code",
   "execution_count": 29,
   "metadata": {
    "collapsed": false
   },
   "outputs": [],
   "source": [
    "students = [Person(\"John\", 21), Person(\"Jenny\", 25), Person(\"Tom\", 23)]\n",
    "teachers = [Person(\"Olivia\", 26), Person(\"Dylan\", 29)]"
   ]
  },
  {
   "cell_type": "code",
   "execution_count": 30,
   "metadata": {
    "collapsed": false
   },
   "outputs": [
    {
     "data": {
      "text/plain": [
       "[John, Jenny, Tom]"
      ]
     },
     "execution_count": 30,
     "metadata": {},
     "output_type": "execute_result"
    }
   ],
   "source": [
    "students"
   ]
  },
  {
   "cell_type": "code",
   "execution_count": 31,
   "metadata": {
    "collapsed": false
   },
   "outputs": [
    {
     "data": {
      "text/plain": [
       "25"
      ]
     },
     "execution_count": 31,
     "metadata": {},
     "output_type": "execute_result"
    }
   ],
   "source": [
    "students[1].age"
   ]
  },
  {
   "cell_type": "code",
   "execution_count": 33,
   "metadata": {
    "collapsed": false
   },
   "outputs": [
    {
     "data": {
      "text/plain": [
       "'Jenny'"
      ]
     },
     "execution_count": 33,
     "metadata": {},
     "output_type": "execute_result"
    }
   ],
   "source": [
    "students[1].name"
   ]
  },
  {
   "cell_type": "markdown",
   "metadata": {},
   "source": [
    "중복이 많이 해소된 것을 확인할 수 있음"
   ]
  },
  {
   "cell_type": "markdown",
   "metadata": {},
   "source": [
    "### (만약) 오늘은 2019년 12월 31일, 그리고 내일은 2020년 1월 1일  \n",
    "### 사람은 누가 해가 바뀌면 나이를 먹고 강의를 듣고 있는 학생과 선생 모두 한살씩 나이가 많아지는데 어떻게 하지?"
   ]
  },
  {
   "cell_type": "code",
   "execution_count": 51,
   "metadata": {
    "collapsed": true
   },
   "outputs": [],
   "source": [
    "class Person(object):\n",
    "    def __init__(self, name, age):\n",
    "        self.name = name\n",
    "        self.age = age\n",
    "        \n",
    "    def __repr__(self):\n",
    "        return self.name + \"/\" + str(self.age)\n",
    "    \n",
    "    def increase_age_by_one(self):\n",
    "        self.age += 1"
   ]
  },
  {
   "cell_type": "markdown",
   "metadata": {},
   "source": [
    "__init__: 생성자, 객체를 만들 때 가장 먼저 실행되는 부분"
   ]
  },
  {
   "cell_type": "code",
   "execution_count": null,
   "metadata": {
    "collapsed": true
   },
   "outputs": [],
   "source": [
    "# TODO 설명 추가"
   ]
  },
  {
   "cell_type": "code",
   "execution_count": 52,
   "metadata": {
    "collapsed": true
   },
   "outputs": [],
   "source": [
    "students = [Person(\"John\", 21), Person(\"Jenny\", 25), Person(\"Tom\", 23)]\n",
    "teachers = [Person(\"Olivia\", 26), Person(\"Dylan\", 29)]"
   ]
  },
  {
   "cell_type": "code",
   "execution_count": 53,
   "metadata": {
    "collapsed": false
   },
   "outputs": [
    {
     "data": {
      "text/plain": [
       "[John/21, Jenny/25, Tom/23]"
      ]
     },
     "execution_count": 53,
     "metadata": {},
     "output_type": "execute_result"
    }
   ],
   "source": [
    "students"
   ]
  },
  {
   "cell_type": "code",
   "execution_count": 54,
   "metadata": {
    "collapsed": false
   },
   "outputs": [
    {
     "data": {
      "text/plain": [
       "[Olivia/26, Dylan/29]"
      ]
     },
     "execution_count": 54,
     "metadata": {},
     "output_type": "execute_result"
    }
   ],
   "source": [
    "teachers"
   ]
  },
  {
   "cell_type": "code",
   "execution_count": 55,
   "metadata": {
    "collapsed": false
   },
   "outputs": [],
   "source": [
    "for student in students:\n",
    "    student.increase_age_by_one()\n",
    "\n",
    "for teacher in teachers:\n",
    "    teacher.increase_age_by_one()"
   ]
  },
  {
   "cell_type": "code",
   "execution_count": 56,
   "metadata": {
    "collapsed": false
   },
   "outputs": [
    {
     "data": {
      "text/plain": [
       "[John/22, Jenny/26, Tom/24]"
      ]
     },
     "execution_count": 56,
     "metadata": {},
     "output_type": "execute_result"
    }
   ],
   "source": [
    "students"
   ]
  },
  {
   "cell_type": "code",
   "execution_count": 57,
   "metadata": {
    "collapsed": false
   },
   "outputs": [
    {
     "data": {
      "text/plain": [
       "[Olivia/27, Dylan/30]"
      ]
     },
     "execution_count": 57,
     "metadata": {},
     "output_type": "execute_result"
    }
   ],
   "source": [
    "teachers"
   ]
  },
  {
   "cell_type": "code",
   "execution_count": 398,
   "metadata": {
    "collapsed": false
   },
   "outputs": [
    {
     "name": "stdout",
     "output_type": "stream",
     "text": [
      "1\n",
      "1\n",
      "2\n",
      "2\n",
      "3\n",
      "3\n",
      "2\n",
      "1\n",
      "0\n"
     ]
    }
   ],
   "source": [
    "class Account:\n",
    "    num_accounts = 0\n",
    "\n",
    "    def __init__(self, name):\n",
    "        self.name = name\n",
    "        self.__class__.num_accounts += 1\n",
    "\n",
    "    def __del__(self):\n",
    "        self.__class__.num_accounts -= 1\n",
    "\n",
    "\n",
    "kim = Account(\"kim\")\n",
    "print(kim.num_accounts)\n",
    "print(Account.num_accounts)\n",
    "\n",
    "lee = Account(\"lee\")\n",
    "print(lee.num_accounts)\n",
    "print(Account.num_accounts)\n",
    "\n",
    "park = Account(\"park\")\n",
    "print(kim.num_accounts)\n",
    "print(Account.num_accounts)\n",
    "\n",
    "del kim\n",
    "print(Account.num_accounts)\n",
    "\n",
    "del lee\n",
    "print(Account.num_accounts)\n",
    "\n",
    "del park\n",
    "print(Account.num_accounts)\n"
   ]
  },
  {
   "cell_type": "code",
   "execution_count": null,
   "metadata": {
    "collapsed": true
   },
   "outputs": [],
   "source": []
  }
 ],
 "metadata": {
  "kernelspec": {
   "display_name": "Python 3",
   "language": "python",
   "name": "python3"
  },
  "language_info": {
   "codemirror_mode": {
    "name": "ipython",
    "version": 3
   },
   "file_extension": ".py",
   "mimetype": "text/x-python",
   "name": "python",
   "nbconvert_exporter": "python",
   "pygments_lexer": "ipython3",
   "version": "3.6.0"
  }
 },
 "nbformat": 4,
 "nbformat_minor": 2
}
