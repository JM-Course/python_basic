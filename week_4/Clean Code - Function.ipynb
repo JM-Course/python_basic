{
 "cells": [
  {
   "cell_type": "markdown",
   "metadata": {},
   "source": [
    "# 함수편"
   ]
  },
  {
   "cell_type": "markdown",
   "metadata": {},
   "source": [
    "## 작게!!"
   ]
  },
  {
   "cell_type": "code",
   "execution_count": 5,
   "metadata": {
    "collapsed": true
   },
   "outputs": [],
   "source": [
    "class Client:\n",
    "    def __inite__(self, active):\n",
    "        self.active = active"
   ]
  },
  {
   "cell_type": "code",
   "execution_count": 7,
   "metadata": {
    "collapsed": false
   },
   "outputs": [],
   "source": [
    "def email_clients(clients):\n",
    "    \"\"\"Filter active clients and send them an email.\n",
    "    \"\"\"\n",
    "    for client in clients:\n",
    "        if client.active:\n",
    "            email(client)"
   ]
  },
  {
   "cell_type": "code",
   "execution_count": 10,
   "metadata": {
    "collapsed": false
   },
   "outputs": [],
   "source": [
    "def get_active_clients(clients):\n",
    "    \"\"\"Filter active clients.\n",
    "    \"\"\"\n",
    "    return [client for client in clients if client.active]\n",
    "\n",
    "\n",
    "def email_clients(clients):\n",
    "    \"\"\"Send an email to a given list of clients.\n",
    "    \"\"\"\n",
    "    for client in clients:\n",
    "        email(client)"
   ]
  },
  {
   "cell_type": "code",
   "execution_count": null,
   "metadata": {
    "collapsed": true
   },
   "outputs": [],
   "source": []
  }
 ],
 "metadata": {
  "kernelspec": {
   "display_name": "Python 3",
   "language": "python",
   "name": "python3"
  },
  "language_info": {
   "codemirror_mode": {
    "name": "ipython",
    "version": 3
   },
   "file_extension": ".py",
   "mimetype": "text/x-python",
   "name": "python",
   "nbconvert_exporter": "python",
   "pygments_lexer": "ipython3",
   "version": "3.6.0"
  }
 },
 "nbformat": 4,
 "nbformat_minor": 2
}
