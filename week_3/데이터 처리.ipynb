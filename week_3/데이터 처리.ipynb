{
 "cells": [
  {
   "cell_type": "markdown",
   "metadata": {},
   "source": [
    "데이터의 포맷: (Text, Json, binary), XML, ...\n",
    "\n",
    "데이터 저장 & 읽기 (입출력): file r/w, pickle, ...\n",
    "\n",
    "데이터 처리: split, slice, strip, indexing (dict), replace, join, lower/upper, ..."
   ]
  },
  {
   "cell_type": "markdown",
   "metadata": {},
   "source": [
    "# 데이터의 포맷"
   ]
  },
  {
   "cell_type": "markdown",
   "metadata": {},
   "source": [
    "### Text"
   ]
  },
  {
   "cell_type": "raw",
   "metadata": {},
   "source": [
    "Apple Inc. is an American multinational technology company headquartered in Cupertino, California, that designs, develops, and sells consumer electronics, computer software, and online services. It is considered one of the Big Four of technology along with Amazon, Google, and Facebook.\n",
    "\n",
    "The company's hardware products include the iPhone smartphone, the iPad tablet computer, the Mac personal computer, the iPod portable media player, the Apple Watch smartwatch, the Apple TV digital media player, the AirPods wireless earbuds and the HomePod smart speaker. Apple's software includes the macOS, iOS, iPadOS, watchOS and tvOS operating systems, the iTunes media player, the Safari web browser, and the iLife and iWork creativity and productivity suites, as well as professional applications like Final Cut Pro, Logic Pro, and Xcode. Its online services include the iTunes Store, the iOS App Store, Mac App Store, Apple Music, Apple TV+, iMessage, and iCloud. Other services include Apple Store, Genius Bar, AppleCare, Apple Pay, Apple Pay Cash, and Apple Card."
   ]
  },
  {
   "cell_type": "markdown",
   "metadata": {},
   "source": [
    "### Json"
   ]
  },
  {
   "cell_type": "raw",
   "metadata": {},
   "source": [
    " {\n",
    "    \"이름\": \"홍길동\",\n",
    "    \"나이\": 25,\n",
    "    \"성별\": \"여\",\n",
    "    \"주소\": \"서울특별시 양천구 목동\",\n",
    "    \"특기\": [\"농구\", \"도술\"],\n",
    "    \"가족관계\": {\"#\": 2, \"아버지\": \"홍판서\", \"어머니\": \"춘섬\"},\n",
    "    \"회사\": \"경기 수원시 팔달구 우만동\"\n",
    " }"
   ]
  },
  {
   "cell_type": "markdown",
   "metadata": {},
   "source": [
    "### binary"
   ]
  },
  {
   "cell_type": "code",
   "execution_count": 68,
   "metadata": {
    "collapsed": false
   },
   "outputs": [
    {
     "name": "stdout",
     "output_type": "stream",
     "text": [
      "b'\\x80\\x03]q\\x00(K\\x01K\\x02K\\x03K\\x04e.'\n",
      "[1, 2, 3, 4]\n"
     ]
    }
   ],
   "source": [
    "from pickle import dumps, loads\n",
    "\n",
    "data = [1, 2, 3, 4]\n",
    "binary_data = dumps(data)\n",
    "print(binary_data)\n",
    "raw_data = loads(binary_data)\n",
    "print(raw_data)"
   ]
  },
  {
   "cell_type": "markdown",
   "metadata": {
    "collapsed": true
   },
   "source": [
    "# 파일 읽기 쓰기"
   ]
  },
  {
   "cell_type": "markdown",
   "metadata": {},
   "source": [
    "### 텍스트 파일 입출력"
   ]
  },
  {
   "cell_type": "code",
   "execution_count": 70,
   "metadata": {
    "collapsed": true
   },
   "outputs": [],
   "source": [
    "data = \"\"\"Apple Inc. is an American multinational technology company headquartered in Cupertino, California, that designs, develops, and sells consumer electronics, computer software, and online services. It is considered one of the Big Four of technology along with Amazon, Google, and Facebook.\\nThe company's hardware products include the iPhone smartphone, the iPad tablet computer, the Mac personal computer, the iPod portable media player, the Apple Watch smartwatch, the Apple TV digital media player, the AirPods wireless earbuds and the HomePod smart speaker. Apple's software includes the macOS, iOS, iPadOS, watchOS and tvOS operating systems, the iTunes media player, the Safari web browser, and the iLife and iWork creativity and productivity suites, as well as professional applications like Final Cut Pro, Logic Pro, and Xcode. Its online services include the iTunes Store, the iOS App Store, Mac App Store, Apple Music, Apple TV+, iMessage, and iCloud. Other services include Apple Store, Genius Bar, AppleCare, Apple Pay, Apple Pay Cash, and Apple Card.\"\"\"\n",
    "f = open(\"./text.txt\", \"w\")\n",
    "f.write(data)\n",
    "f.close()"
   ]
  },
  {
   "cell_type": "code",
   "execution_count": 71,
   "metadata": {
    "collapsed": false
   },
   "outputs": [],
   "source": [
    "with open(\"./text.txt\", \"w\") as f:\n",
    "    f.write(data)"
   ]
  },
  {
   "cell_type": "code",
   "execution_count": 72,
   "metadata": {
    "collapsed": false
   },
   "outputs": [
    {
     "name": "stdout",
     "output_type": "stream",
     "text": [
      "Apple Inc. is an American multinational technology company headquartered in Cupertino, California, that designs, develops, and sells consumer electronics, computer software, and online services. It is considered one of the Big Four of technology along with Amazon, Google, and Facebook.\n",
      "The company's hardware products include the iPhone smartphone, the iPad tablet computer, the Mac personal computer, the iPod portable media player, the Apple Watch smartwatch, the Apple TV digital media player, the AirPods wireless earbuds and the HomePod smart speaker. Apple's software includes the macOS, iOS, iPadOS, watchOS and tvOS operating systems, the iTunes media player, the Safari web browser, and the iLife and iWork creativity and productivity suites, as well as professional applications like Final Cut Pro, Logic Pro, and Xcode. Its online services include the iTunes Store, the iOS App Store, Mac App Store, Apple Music, Apple TV+, iMessage, and iCloud. Other services include Apple Store, Genius Bar, AppleCare, Apple Pay, Apple Pay Cash, and Apple Card.\n"
     ]
    }
   ],
   "source": [
    "f = open(\"./text.txt\", \"r\")\n",
    "data = f.read()\n",
    "print(data)\n",
    "f.close()"
   ]
  },
  {
   "cell_type": "code",
   "execution_count": 73,
   "metadata": {
    "collapsed": false,
    "scrolled": true
   },
   "outputs": [
    {
     "name": "stdout",
     "output_type": "stream",
     "text": [
      "Apple Inc. is an American multinational technology company headquartered in Cupertino, California, that designs, develops, and sells consumer electronics, computer software, and online services. It is considered one of the Big Four of technology along with Amazon, Google, and Facebook.\n",
      "\n",
      "The company's hardware products include the iPhone smartphone, the iPad tablet computer, the Mac personal computer, the iPod portable media player, the Apple Watch smartwatch, the Apple TV digital media player, the AirPods wireless earbuds and the HomePod smart speaker. Apple's software includes the macOS, iOS, iPadOS, watchOS and tvOS operating systems, the iTunes media player, the Safari web browser, and the iLife and iWork creativity and productivity suites, as well as professional applications like Final Cut Pro, Logic Pro, and Xcode. Its online services include the iTunes Store, the iOS App Store, Mac App Store, Apple Music, Apple TV+, iMessage, and iCloud. Other services include Apple Store, Genius Bar, AppleCare, Apple Pay, Apple Pay Cash, and Apple Card.\n"
     ]
    }
   ],
   "source": [
    "f = open(\"./text.txt\", \"r\")\n",
    "for line in f.readlines():\n",
    "    print(line)\n",
    "f.close()"
   ]
  },
  {
   "cell_type": "code",
   "execution_count": 74,
   "metadata": {
    "collapsed": false
   },
   "outputs": [
    {
     "name": "stdout",
     "output_type": "stream",
     "text": [
      "Apple Inc. is an American multinational technology company headquartered in Cupertino, California, that designs, develops, and sells consumer electronics, computer software, and online services. It is considered one of the Big Four of technology along with Amazon, Google, and Facebook.\n",
      "\n",
      "The company's hardware products include the iPhone smartphone, the iPad tablet computer, the Mac personal computer, the iPod portable media player, the Apple Watch smartwatch, the Apple TV digital media player, the AirPods wireless earbuds and the HomePod smart speaker. Apple's software includes the macOS, iOS, iPadOS, watchOS and tvOS operating systems, the iTunes media player, the Safari web browser, and the iLife and iWork creativity and productivity suites, as well as professional applications like Final Cut Pro, Logic Pro, and Xcode. Its online services include the iTunes Store, the iOS App Store, Mac App Store, Apple Music, Apple TV+, iMessage, and iCloud. Other services include Apple Store, Genius Bar, AppleCare, Apple Pay, Apple Pay Cash, and Apple Card.\n"
     ]
    }
   ],
   "source": [
    "with open(\"./text.txt\", \"r\") as f:\n",
    "    for line in f.readlines():\n",
    "        print(line)"
   ]
  },
  {
   "cell_type": "markdown",
   "metadata": {},
   "source": [
    "### JSON 파일 입출력"
   ]
  },
  {
   "cell_type": "code",
   "execution_count": 75,
   "metadata": {
    "collapsed": false
   },
   "outputs": [
    {
     "name": "stdout",
     "output_type": "stream",
     "text": [
      "{'이름': '홍길동', '나이': 25, '성별': '여', '주소': '서울특별시 양천구 목동', '특기': ['농구', '도술'], '가족관계': {'#': 2, '아버지': '홍판서', '어머니': '춘섬'}, '회사': '경기 수원시 팔달구 우만동'}\n"
     ]
    }
   ],
   "source": [
    "import json\n",
    "\n",
    "json_data = open(\"./input.json\").read()\n",
    "data = json.loads(json_data)\n",
    "print(data)"
   ]
  },
  {
   "cell_type": "code",
   "execution_count": 38,
   "metadata": {
    "collapsed": true
   },
   "outputs": [],
   "source": [
    "data[\"주소\"] = \"서울특별시 강남구 역삼\""
   ]
  },
  {
   "cell_type": "code",
   "execution_count": 39,
   "metadata": {
    "collapsed": false
   },
   "outputs": [
    {
     "name": "stdout",
     "output_type": "stream",
     "text": [
      "{'이름': '홍길동', '나이': 25, '성별': '여', '주소': '서울특별시 강남구 역삼', '특기': ['농구', '도술'], '가족관계': {'#': 2, '아버지': '홍판서', '어머니': '춘섬'}, '회사': '경기 수원시 팔달구 우만동'}\n"
     ]
    }
   ],
   "source": [
    "print(data)"
   ]
  },
  {
   "cell_type": "code",
   "execution_count": 76,
   "metadata": {
    "collapsed": true
   },
   "outputs": [],
   "source": [
    "with open('output.json', 'w', encoding='utf-8') as f:\n",
    "    json.dump(data, f)"
   ]
  },
  {
   "cell_type": "code",
   "execution_count": 77,
   "metadata": {
    "collapsed": false
   },
   "outputs": [
    {
     "name": "stdout",
     "output_type": "stream",
     "text": [
      "{'이름': '홍길동', '나이': 25, '성별': '여', '주소': '서울특별시 양천구 목동', '특기': ['농구', '도술'], '가족관계': {'#': 2, '아버지': '홍판서', '어머니': '춘섬'}, '회사': '경기 수원시 팔달구 우만동'}\n"
     ]
    }
   ],
   "source": [
    "json_data = open(\"./output.json\").read()\n",
    "data = json.loads(json_data)\n",
    "print(data)"
   ]
  },
  {
   "cell_type": "markdown",
   "metadata": {},
   "source": [
    "### binary 데이터 입출력"
   ]
  },
  {
   "cell_type": "code",
   "execution_count": 78,
   "metadata": {
    "collapsed": true
   },
   "outputs": [],
   "source": [
    "import pickle\n",
    "\n",
    "list_data = [\"a\", \"b\", 1, \"hi\"]\n",
    "f = open(\"./list_data.bin\", \"wb\")\n",
    "pickle.dump(list_data, f)\n",
    "f.close()"
   ]
  },
  {
   "cell_type": "code",
   "execution_count": 79,
   "metadata": {
    "collapsed": false
   },
   "outputs": [
    {
     "name": "stdout",
     "output_type": "stream",
     "text": [
      "['a', 'b', 1, 'hi']\n"
     ]
    }
   ],
   "source": [
    "f = open(\"./list_data.bin\", \"rb\")\n",
    "list_data = pickle.load(f)\n",
    "print(list_data)\n",
    "f.close()"
   ]
  },
  {
   "cell_type": "code",
   "execution_count": 80,
   "metadata": {
    "collapsed": true
   },
   "outputs": [],
   "source": [
    "import pickle\n",
    "\n",
    "dict_data =  {\n",
    "    \"이름\": \"홍길동\",\n",
    "    \"나이\": 25,\n",
    "    \"성별\": \"여\",\n",
    "    \"주소\": \"서울특별시 양천구 목동\",\n",
    "    \"특기\": [\"농구\", \"도술\"],\n",
    "    \"가족관계\": {\"#\": 2, \"아버지\": \"홍판서\", \"어머니\": \"춘섬\"},\n",
    "    \"회사\": \"경기 수원시 팔달구 우만동\" \n",
    "}\n",
    "f = open(\"./dict_data.bin\", \"wb\")\n",
    "pickle.dump(dict_data, f)\n",
    "f.close()"
   ]
  },
  {
   "cell_type": "code",
   "execution_count": 81,
   "metadata": {
    "collapsed": false
   },
   "outputs": [
    {
     "name": "stdout",
     "output_type": "stream",
     "text": [
      "{'이름': '홍길동', '나이': 25, '성별': '여', '주소': '서울특별시 양천구 목동', '특기': ['농구', '도술'], '가족관계': {'#': 2, '아버지': '홍판서', '어머니': '춘섬'}, '회사': '경기 수원시 팔달구 우만동'}\n"
     ]
    }
   ],
   "source": [
    "f = open(\"./dict_data.bin\", \"rb\")\n",
    "dict_data = pickle.load(f)\n",
    "print(dict_data)\n",
    "f.close()"
   ]
  },
  {
   "cell_type": "markdown",
   "metadata": {},
   "source": [
    "# 텍스트 전처리"
   ]
  },
  {
   "cell_type": "code",
   "execution_count": 82,
   "metadata": {
    "collapsed": false
   },
   "outputs": [
    {
     "name": "stdout",
     "output_type": "stream",
     "text": [
      "['Apple Inc. is an American multinational technology company headquartered in Cupertino, California, that designs, develops, and sells consumer electronics, computer software, and online services. It is considered one of the Big Four of technology along with Amazon, Google, and Facebook.\\n', \"The company's hardware products include the iPhone smartphone, the iPad tablet computer, the Mac personal computer, the iPod portable media player, the Apple Watch smartwatch, the Apple TV digital media player, the AirPods wireless earbuds and the HomePod smart speaker. Apple's software includes the macOS, iOS, iPadOS, watchOS and tvOS operating systems, the iTunes media player, the Safari web browser, and the iLife and iWork creativity and productivity suites, as well as professional applications like Final Cut Pro, Logic Pro, and Xcode. Its online services include the iTunes Store, the iOS App Store, Mac App Store, Apple Music, Apple TV+, iMessage, and iCloud. Other services include Apple Store, Genius Bar, AppleCare, Apple Pay, Apple Pay Cash, and Apple Card.\"]\n",
      "2\n",
      "Apple Inc. is an American multinational technology company headquartered in Cupertino, California, that designs, develops, and sells consumer electronics, computer software, and online services. It is considered one of the Big Four of technology along with Amazon, Google, and Facebook.\n",
      "\n",
      "The company's hardware products include the iPhone smartphone, the iPad tablet computer, the Mac personal computer, the iPod portable media player, the Apple Watch smartwatch, the Apple TV digital media player, the AirPods wireless earbuds and the HomePod smart speaker. Apple's software includes the macOS, iOS, iPadOS, watchOS and tvOS operating systems, the iTunes media player, the Safari web browser, and the iLife and iWork creativity and productivity suites, as well as professional applications like Final Cut Pro, Logic Pro, and Xcode. Its online services include the iTunes Store, the iOS App Store, Mac App Store, Apple Music, Apple TV+, iMessage, and iCloud. Other services include Apple Store, Genius Bar, AppleCare, Apple Pay, Apple Pay Cash, and Apple Card.\n"
     ]
    }
   ],
   "source": [
    "with open(\"./text.txt\", \"r\") as f:\n",
    "    data = f.readlines()\n",
    "    print(data)\n",
    "    print(len(data))\n",
    "    print(data[0])  # strip() 추가\n",
    "    print(data[1])"
   ]
  },
  {
   "cell_type": "code",
   "execution_count": 83,
   "metadata": {
    "collapsed": false
   },
   "outputs": [
    {
     "name": "stdout",
     "output_type": "stream",
     "text": [
      "['Apple', 'Inc.', 'is', 'an', 'American', 'multinational', 'technology', 'company', 'headquartered', 'in', 'Cupertino,', 'California,', 'that', 'designs,', 'develops,', 'and', 'sells', 'consumer', 'electronics,', 'computer', 'software,', 'and', 'online', 'services.', 'It', 'is', 'considered', 'one', 'of', 'the', 'Big', 'Four', 'of', 'technology', 'along', 'with', 'Amazon,', 'Google,', 'and', 'Facebook.']\n",
      "['The', \"company's\", 'hardware', 'products', 'include', 'the', 'iPhone', 'smartphone,', 'the', 'iPad', 'tablet', 'computer,', 'the', 'Mac', 'personal', 'computer,', 'the', 'iPod', 'portable', 'media', 'player,', 'the', 'Apple', 'Watch', 'smartwatch,', 'the', 'Apple', 'TV', 'digital', 'media', 'player,', 'the', 'AirPods', 'wireless', 'earbuds', 'and', 'the', 'HomePod', 'smart', 'speaker.', \"Apple's\", 'software', 'includes', 'the', 'macOS,', 'iOS,', 'iPadOS,', 'watchOS', 'and', 'tvOS', 'operating', 'systems,', 'the', 'iTunes', 'media', 'player,', 'the', 'Safari', 'web', 'browser,', 'and', 'the', 'iLife', 'and', 'iWork', 'creativity', 'and', 'productivity', 'suites,', 'as', 'well', 'as', 'professional', 'applications', 'like', 'Final', 'Cut', 'Pro,', 'Logic', 'Pro,', 'and', 'Xcode.', 'Its', 'online', 'services', 'include', 'the', 'iTunes', 'Store,', 'the', 'iOS', 'App', 'Store,', 'Mac', 'App', 'Store,', 'Apple', 'Music,', 'Apple', 'TV+,', 'iMessage,', 'and', 'iCloud.', 'Other', 'services', 'include', 'Apple', 'Store,', 'Genius', 'Bar,', 'AppleCare,', 'Apple', 'Pay,', 'Apple', 'Pay', 'Cash,', 'and', 'Apple', 'Card.']\n"
     ]
    }
   ],
   "source": [
    "with open(\"./text.txt\", \"r\") as f:\n",
    "    for line in f.readlines():\n",
    "        print(line.split())"
   ]
  },
  {
   "cell_type": "code",
   "execution_count": 84,
   "metadata": {
    "collapsed": false
   },
   "outputs": [
    {
     "name": "stdout",
     "output_type": "stream",
     "text": [
      "Counter({'the': 15, 'and': 11, 'Apple': 9, 'Store,': 4, 'include': 3, 'media': 3, 'player,': 3, 'is': 2, 'technology': 2, 'online': 2, 'of': 2, 'computer,': 2, 'Mac': 2, 'iTunes': 2, 'as': 2, 'Pro,': 2, 'services': 2, 'App': 2, 'Inc.': 1, 'an': 1, 'American': 1, 'multinational': 1, 'company': 1, 'headquartered': 1, 'in': 1, 'Cupertino,': 1, 'California,': 1, 'that': 1, 'designs,': 1, 'develops,': 1, 'sells': 1, 'consumer': 1, 'electronics,': 1, 'computer': 1, 'software,': 1, 'services.': 1, 'It': 1, 'considered': 1, 'one': 1, 'Big': 1, 'Four': 1, 'along': 1, 'with': 1, 'Amazon,': 1, 'Google,': 1, 'Facebook.': 1, 'The': 1, \"company's\": 1, 'hardware': 1, 'products': 1, 'iPhone': 1, 'smartphone,': 1, 'iPad': 1, 'tablet': 1, 'personal': 1, 'iPod': 1, 'portable': 1, 'Watch': 1, 'smartwatch,': 1, 'TV': 1, 'digital': 1, 'AirPods': 1, 'wireless': 1, 'earbuds': 1, 'HomePod': 1, 'smart': 1, 'speaker.': 1, \"Apple's\": 1, 'software': 1, 'includes': 1, 'macOS,': 1, 'iOS,': 1, 'iPadOS,': 1, 'watchOS': 1, 'tvOS': 1, 'operating': 1, 'systems,': 1, 'Safari': 1, 'web': 1, 'browser,': 1, 'iLife': 1, 'iWork': 1, 'creativity': 1, 'productivity': 1, 'suites,': 1, 'well': 1, 'professional': 1, 'applications': 1, 'like': 1, 'Final': 1, 'Cut': 1, 'Logic': 1, 'Xcode.': 1, 'Its': 1, 'iOS': 1, 'Music,': 1, 'TV+,': 1, 'iMessage,': 1, 'iCloud.': 1, 'Other': 1, 'Genius': 1, 'Bar,': 1, 'AppleCare,': 1, 'Pay,': 1, 'Pay': 1, 'Cash,': 1, 'Card.': 1})\n"
     ]
    }
   ],
   "source": [
    "from collections import Counter\n",
    "\n",
    "vocab = Counter()\n",
    "\n",
    "with open(\"./text.txt\", \"r\") as f:\n",
    "    for line in f.readlines():\n",
    "        tokens = line.split()\n",
    "        vocab.update(tokens)\n",
    "        \n",
    "print(vocab)  # the, The"
   ]
  },
  {
   "cell_type": "code",
   "execution_count": 85,
   "metadata": {
    "collapsed": false
   },
   "outputs": [
    {
     "name": "stdout",
     "output_type": "stream",
     "text": [
      "Counter({'the': 16, 'and': 11, 'apple': 9, 'store,': 4, 'include': 3, 'media': 3, 'player,': 3, 'is': 2, 'technology': 2, 'online': 2, 'of': 2, 'computer,': 2, 'mac': 2, 'itunes': 2, 'as': 2, 'pro,': 2, 'services': 2, 'app': 2, 'inc.': 1, 'an': 1, 'american': 1, 'multinational': 1, 'company': 1, 'headquartered': 1, 'in': 1, 'cupertino,': 1, 'california,': 1, 'that': 1, 'designs,': 1, 'develops,': 1, 'sells': 1, 'consumer': 1, 'electronics,': 1, 'computer': 1, 'software,': 1, 'services.': 1, 'it': 1, 'considered': 1, 'one': 1, 'big': 1, 'four': 1, 'along': 1, 'with': 1, 'amazon,': 1, 'google,': 1, 'facebook.': 1, \"company's\": 1, 'hardware': 1, 'products': 1, 'iphone': 1, 'smartphone,': 1, 'ipad': 1, 'tablet': 1, 'personal': 1, 'ipod': 1, 'portable': 1, 'watch': 1, 'smartwatch,': 1, 'tv': 1, 'digital': 1, 'airpods': 1, 'wireless': 1, 'earbuds': 1, 'homepod': 1, 'smart': 1, 'speaker.': 1, \"apple's\": 1, 'software': 1, 'includes': 1, 'macos,': 1, 'ios,': 1, 'ipados,': 1, 'watchos': 1, 'tvos': 1, 'operating': 1, 'systems,': 1, 'safari': 1, 'web': 1, 'browser,': 1, 'ilife': 1, 'iwork': 1, 'creativity': 1, 'productivity': 1, 'suites,': 1, 'well': 1, 'professional': 1, 'applications': 1, 'like': 1, 'final': 1, 'cut': 1, 'logic': 1, 'xcode.': 1, 'its': 1, 'ios': 1, 'music,': 1, 'tv+,': 1, 'imessage,': 1, 'icloud.': 1, 'other': 1, 'genius': 1, 'bar,': 1, 'applecare,': 1, 'pay,': 1, 'pay': 1, 'cash,': 1, 'card.': 1})\n"
     ]
    }
   ],
   "source": [
    "from collections import Counter\n",
    "\n",
    "vocab = Counter()\n",
    "\n",
    "with open(\"./text.txt\", \"r\") as f:\n",
    "    for line in f.readlines():\n",
    "        line = line.lower()\n",
    "        tokens = line.split()\n",
    "        vocab.update(tokens)\n",
    "        \n",
    "print(vocab)  # \".,\""
   ]
  },
  {
   "cell_type": "code",
   "execution_count": 90,
   "metadata": {
    "collapsed": false
   },
   "outputs": [
    {
     "name": "stdout",
     "output_type": "stream",
     "text": [
      "Counter({'the': 16, 'and': 11, 'apple': 9, 'store': 4, 'computer': 3, 'services': 3, 'include': 3, 'media': 3, 'player': 3, 'is': 2, 'technology': 2, 'software': 2, 'online': 2, 'of': 2, 'mac': 2, 'ios': 2, 'itunes': 2, 'as': 2, 'pro': 2, 'app': 2, 'pay': 2, 'inc': 1, 'an': 1, 'american': 1, 'multinational': 1, 'company': 1, 'headquartered': 1, 'in': 1, 'cupertino': 1, 'california': 1, 'that': 1, 'designs': 1, 'develops': 1, 'sells': 1, 'consumer': 1, 'electronics': 1, 'it': 1, 'considered': 1, 'one': 1, 'big': 1, 'four': 1, 'along': 1, 'with': 1, 'amazon': 1, 'google': 1, 'facebook': 1, \"company's\": 1, 'hardware': 1, 'products': 1, 'iphone': 1, 'smartphone': 1, 'ipad': 1, 'tablet': 1, 'personal': 1, 'ipod': 1, 'portable': 1, 'watch': 1, 'smartwatch': 1, 'tv': 1, 'digital': 1, 'airpods': 1, 'wireless': 1, 'earbuds': 1, 'homepod': 1, 'smart': 1, 'speaker': 1, \"apple's\": 1, 'includes': 1, 'macos': 1, 'ipados': 1, 'watchos': 1, 'tvos': 1, 'operating': 1, 'systems': 1, 'safari': 1, 'web': 1, 'browser': 1, 'ilife': 1, 'iwork': 1, 'creativity': 1, 'productivity': 1, 'suites': 1, 'well': 1, 'professional': 1, 'applications': 1, 'like': 1, 'final': 1, 'cut': 1, 'logic': 1, 'xcode': 1, 'its': 1, 'music': 1, 'tv+': 1, 'imessage': 1, 'icloud': 1, 'other': 1, 'genius': 1, 'bar': 1, 'applecare': 1, 'cash': 1, 'card': 1})\n"
     ]
    }
   ],
   "source": [
    "from collections import Counter\n",
    "\n",
    "vocab = Counter()\n",
    "\n",
    "with open(\"./text.txt\", \"r\") as f:\n",
    "    for line in f.readlines():\n",
    "        line = line.lower()\n",
    "        line = line.replace(\".\", \"\")\n",
    "        line = line.replace(\",\", \"\")\n",
    "        tokens = line.split()\n",
    "        vocab.update(tokens)\n",
    "        \n",
    "print(vocab)  # \".,\""
   ]
  },
  {
   "cell_type": "code",
   "execution_count": 91,
   "metadata": {
    "collapsed": false
   },
   "outputs": [
    {
     "name": "stdout",
     "output_type": "stream",
     "text": [
      "Counter({'the': 16, 'and': 11, 'apple': 9, 'store': 4, 'computer': 3, 'services': 3, 'include': 3, 'media': 3, 'player': 3, 'is': 2, 'technology': 2, 'software': 2, 'online': 2, 'of': 2, 'mac': 2, 'ios': 2, 'itunes': 2, 'as': 2, 'pro': 2, 'app': 2, 'pay': 2, 'inc': 1, 'an': 1, 'american': 1, 'multinational': 1, 'company': 1, 'headquartered': 1, 'in': 1, 'cupertino': 1, 'california': 1, 'that': 1, 'designs': 1, 'develops': 1, 'sells': 1, 'consumer': 1, 'electronics': 1, 'it': 1, 'considered': 1, 'one': 1, 'big': 1, 'four': 1, 'along': 1, 'with': 1, 'amazon': 1, 'google': 1, 'facebook': 1, \"company's\": 1, 'hardware': 1, 'products': 1, 'iphone': 1, 'smartphone': 1, 'ipad': 1, 'tablet': 1, 'personal': 1, 'ipod': 1, 'portable': 1, 'watch': 1, 'smartwatch': 1, 'tv': 1, 'digital': 1, 'airpods': 1, 'wireless': 1, 'earbuds': 1, 'homepod': 1, 'smart': 1, 'speaker': 1, \"apple's\": 1, 'includes': 1, 'macos': 1, 'ipados': 1, 'watchos': 1, 'tvos': 1, 'operating': 1, 'systems': 1, 'safari': 1, 'web': 1, 'browser': 1, 'ilife': 1, 'iwork': 1, 'creativity': 1, 'productivity': 1, 'suites': 1, 'well': 1, 'professional': 1, 'applications': 1, 'like': 1, 'final': 1, 'cut': 1, 'logic': 1, 'xcode': 1, 'its': 1, 'music': 1, 'tv+': 1, 'imessage': 1, 'icloud': 1, 'other': 1, 'genius': 1, 'bar': 1, 'applecare': 1, 'cash': 1, 'card': 1})\n"
     ]
    }
   ],
   "source": [
    "from collections import Counter\n",
    "import re\n",
    "\n",
    "vocab = Counter()\n",
    "\n",
    "with open(\"./text.txt\", \"r\") as f:\n",
    "    for line in f.readlines():\n",
    "        line = line.lower()\n",
    "        line = re.sub(\"[,.]\", \"\", line)\n",
    "        tokens = line.split()\n",
    "        vocab.update(tokens)\n",
    "        \n",
    "print(vocab)  # \".,\""
   ]
  },
  {
   "cell_type": "code",
   "execution_count": 92,
   "metadata": {
    "collapsed": true
   },
   "outputs": [],
   "source": [
    "word2id = dict()\n",
    "for word in vocab:\n",
    "    word2id[word] = len(word2id)\n",
    "id2word = dict(zip(word2id.values(), word2id.keys()))"
   ]
  },
  {
   "cell_type": "code",
   "execution_count": 93,
   "metadata": {
    "collapsed": false
   },
   "outputs": [
    {
     "name": "stdout",
     "output_type": "stream",
     "text": [
      "{'apple': 0, 'inc': 1, 'is': 2, 'an': 3, 'american': 4, 'multinational': 5, 'technology': 6, 'company': 7, 'headquartered': 8, 'in': 9, 'cupertino': 10, 'california': 11, 'that': 12, 'designs': 13, 'develops': 14, 'and': 15, 'sells': 16, 'consumer': 17, 'electronics': 18, 'computer': 19, 'software': 20, 'online': 21, 'services': 22, 'it': 23, 'considered': 24, 'one': 25, 'of': 26, 'the': 27, 'big': 28, 'four': 29, 'along': 30, 'with': 31, 'amazon': 32, 'google': 33, 'facebook': 34, \"company's\": 35, 'hardware': 36, 'products': 37, 'include': 38, 'iphone': 39, 'smartphone': 40, 'ipad': 41, 'tablet': 42, 'mac': 43, 'personal': 44, 'ipod': 45, 'portable': 46, 'media': 47, 'player': 48, 'watch': 49, 'smartwatch': 50, 'tv': 51, 'digital': 52, 'airpods': 53, 'wireless': 54, 'earbuds': 55, 'homepod': 56, 'smart': 57, 'speaker': 58, \"apple's\": 59, 'includes': 60, 'macos': 61, 'ios': 62, 'ipados': 63, 'watchos': 64, 'tvos': 65, 'operating': 66, 'systems': 67, 'itunes': 68, 'safari': 69, 'web': 70, 'browser': 71, 'ilife': 72, 'iwork': 73, 'creativity': 74, 'productivity': 75, 'suites': 76, 'as': 77, 'well': 78, 'professional': 79, 'applications': 80, 'like': 81, 'final': 82, 'cut': 83, 'pro': 84, 'logic': 85, 'xcode': 86, 'its': 87, 'store': 88, 'app': 89, 'music': 90, 'tv+': 91, 'imessage': 92, 'icloud': 93, 'other': 94, 'genius': 95, 'bar': 96, 'applecare': 97, 'pay': 98, 'cash': 99, 'card': 100}\n"
     ]
    }
   ],
   "source": [
    "print(word2id)"
   ]
  },
  {
   "cell_type": "code",
   "execution_count": 94,
   "metadata": {
    "collapsed": false
   },
   "outputs": [
    {
     "name": "stdout",
     "output_type": "stream",
     "text": [
      "0\n"
     ]
    }
   ],
   "source": [
    "print(word2id[\"apple\"])"
   ]
  },
  {
   "cell_type": "code",
   "execution_count": 99,
   "metadata": {
    "collapsed": false
   },
   "outputs": [
    {
     "name": "stdout",
     "output_type": "stream",
     "text": [
      "apple\n"
     ]
    }
   ],
   "source": [
    "print(id2word[0]) # id 수정"
   ]
  },
  {
   "cell_type": "code",
   "execution_count": 96,
   "metadata": {
    "collapsed": false
   },
   "outputs": [
    {
     "name": "stdout",
     "output_type": "stream",
     "text": [
      "86\n"
     ]
    }
   ],
   "source": [
    "print(word2id[\"xcode\"])"
   ]
  },
  {
   "cell_type": "code",
   "execution_count": 98,
   "metadata": {
    "collapsed": false
   },
   "outputs": [
    {
     "name": "stdout",
     "output_type": "stream",
     "text": [
      "xcode\n"
     ]
    }
   ],
   "source": [
    "print(id2word[86]) # id 수정"
   ]
  },
  {
   "cell_type": "code",
   "execution_count": 103,
   "metadata": {
    "collapsed": false
   },
   "outputs": [
    {
     "name": "stdout",
     "output_type": "stream",
     "text": [
      "[0번째 line]\n",
      "Before:  Apple Inc. is an American multinational technology company headquartered in Cupertino, California, that designs, develops, and sells consumer electronics, computer software, and online services. It is considered one of the Big Four of technology along with Amazon, Google, and Facebook.\n",
      "\n",
      "After:  apple inc is an american multinational technology company headquartered in cupertino california that designs develops and sells consumer electronics computer software and online services it is considered one of the big four of technology along with amazon google and facebook\n",
      "[1번째 line]\n",
      "Before:  The company's hardware products include the iPhone smartphone, the iPad tablet computer, the Mac personal computer, the iPod portable media player, the Apple Watch smartwatch, the Apple TV digital media player, the AirPods wireless earbuds and the HomePod smart speaker. Apple's software includes the macOS, iOS, iPadOS, watchOS and tvOS operating systems, the iTunes media player, the Safari web browser, and the iLife and iWork creativity and productivity suites, as well as professional applications like Final Cut Pro, Logic Pro, and Xcode. Its online services include the iTunes Store, the iOS App Store, Mac App Store, Apple Music, Apple TV+, iMessage, and iCloud. Other services include Apple Store, Genius Bar, AppleCare, Apple Pay, Apple Pay Cash, and Apple Card.\n",
      "After:  the company's hardware products include the iphone smartphone the ipad tablet computer the mac personal computer the ipod portable media player the apple watch smartwatch the apple tv digital media player the airpods wireless earbuds and the homepod smart speaker apple's software includes the macos ios ipados watchos and tvos operating systems the itunes media player the safari web browser and the ilife and iwork creativity and productivity suites as well as professional applications like final cut pro logic pro and xcode its online services include the itunes store the ios app store mac app store apple music apple tv+ imessage and icloud other services include apple store genius bar applecare apple pay apple pay cash and apple card\n"
     ]
    }
   ],
   "source": [
    "import re\n",
    "\n",
    "vocab = Counter()\n",
    "\n",
    "with open(\"./text.txt\", \"r\") as f:\n",
    "    for line_number, line in enumerate(f.readlines()):\n",
    "        print(\"[%d번째 line]\" % (line_number))\n",
    "        print(\"Before: \", line)\n",
    "        line = line.lower()\n",
    "        line = re.sub(\"[,.]\", \"\", line)\n",
    "        tokens = line.split()\n",
    "        new_line = \" \".join(tokens)\n",
    "        print(\"After: \", new_line)"
   ]
  },
  {
   "cell_type": "code",
   "execution_count": null,
   "metadata": {
    "collapsed": true
   },
   "outputs": [],
   "source": []
  }
 ],
 "metadata": {
  "kernelspec": {
   "display_name": "Python 3",
   "language": "python",
   "name": "python3"
  },
  "language_info": {
   "codemirror_mode": {
    "name": "ipython",
    "version": 3
   },
   "file_extension": ".py",
   "mimetype": "text/x-python",
   "name": "python",
   "nbconvert_exporter": "python",
   "pygments_lexer": "ipython3",
   "version": "3.6.0"
  }
 },
 "nbformat": 4,
 "nbformat_minor": 2
}
