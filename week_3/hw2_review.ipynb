{
 "cells": [
  {
   "cell_type": "markdown",
   "metadata": {
    "collapsed": true
   },
   "source": [
    "# 문제"
   ]
  },
  {
   "cell_type": "code",
   "execution_count": 1,
   "metadata": {
    "collapsed": true
   },
   "outputs": [],
   "source": [
    "class Calculator:\n",
    "    def __init__(self):\n",
    "        # self.current_value 0으로 초기화\n",
    "        pass\n",
    "\n",
    "    def add(self, value):\n",
    "        # self.current_value에 value 더하기\n",
    "        pass\n",
    "\n",
    "    def sub(self, value):\n",
    "        # self.current_value에 value 빼기\n",
    "        pass\n",
    "\n",
    "    def mul(self, value):\n",
    "        # self.current_value에 value 곱하기\n",
    "        pass\n",
    "\n",
    "    def get_value(self):\n",
    "        # self.current_value 반환\n",
    "        pass\n",
    "\n",
    "    def reset(self):\n",
    "        # self.current_value를 0으로 초기화\n",
    "        pass\n",
    "\n",
    "\n",
    "if __name__ == \"__main__\":\n",
    "    # Calculator 객체 생성\n",
    "\n",
    "    # current_value에 5 더하기\n",
    "\n",
    "    # current_value에 3 빼기\n",
    "\n",
    "    # current_value에 5 곱하기\n",
    "\n",
    "    # current_value에 print하기\n",
    "\n",
    "    # current_value값 0으로 초기화하기\n",
    "\n",
    "    # current_value에 print하기\n",
    "\n",
    "    pass\n"
   ]
  },
  {
   "cell_type": "markdown",
   "metadata": {},
   "source": [
    "# 답"
   ]
  },
  {
   "cell_type": "code",
   "execution_count": 2,
   "metadata": {
    "collapsed": false
   },
   "outputs": [
    {
     "name": "stdout",
     "output_type": "stream",
     "text": [
      "10\n",
      "0\n"
     ]
    }
   ],
   "source": [
    "class Calculator:\n",
    "    def __init__(self):\n",
    "        self.current_value = 0\n",
    "\n",
    "    def add(self, value):\n",
    "        self.current_value += value\n",
    "\n",
    "    def sub(self, value):\n",
    "        self.current_value -= value\n",
    "\n",
    "    def mul(self, value):\n",
    "        self.current_value *= value\n",
    "\n",
    "    def get_value(self):\n",
    "        return self.current_value\n",
    "\n",
    "    def reset(self):\n",
    "        self.current_value = 0\n",
    "\n",
    "\n",
    "if __name__ == \"__main__\":\n",
    "    cal = Calculator()\n",
    "    cal.add(5)\n",
    "    cal.sub(3)\n",
    "    cal.mul(5)\n",
    "    print(cal.get_value())\n",
    "    cal.reset()\n",
    "    print(cal.get_value())\n"
   ]
  },
  {
   "cell_type": "markdown",
   "metadata": {},
   "source": [
    "데이터 -> ?\n",
    "행동 -> ?"
   ]
  }
 ],
 "metadata": {
  "kernelspec": {
   "display_name": "Python 3",
   "language": "python",
   "name": "python3"
  },
  "language_info": {
   "codemirror_mode": {
    "name": "ipython",
    "version": 3
   },
   "file_extension": ".py",
   "mimetype": "text/x-python",
   "name": "python",
   "nbconvert_exporter": "python",
   "pygments_lexer": "ipython3",
   "version": "3.6.0"
  }
 },
 "nbformat": 4,
 "nbformat_minor": 2
}
